{
 "cells": [
  {
   "cell_type": "code",
   "execution_count": 1,
   "metadata": {
    "ExecuteTime": {
     "end_time": "2022-11-09T11:23:41.977209Z",
     "start_time": "2022-11-09T11:23:40.908994Z"
    }
   },
   "outputs": [],
   "source": [
    "import pandas as pd\n",
    "import matplotlib.pyplot as plt\n",
    "import sys\n",
    "import numpy as np\n",
    "import importlib\n",
    "import math"
   ]
  },
  {
   "cell_type": "code",
   "execution_count": 2,
   "metadata": {
    "ExecuteTime": {
     "end_time": "2022-11-09T11:23:42.193790Z",
     "start_time": "2022-11-09T11:23:42.189805Z"
    }
   },
   "outputs": [],
   "source": [
    "sys.path.append(\"/u/davidm/Documents/Master-thesis/Scripts/RNA-seq/python/\")"
   ]
  },
  {
   "cell_type": "code",
   "execution_count": 3,
   "metadata": {
    "ExecuteTime": {
     "end_time": "2022-11-09T11:23:45.601613Z",
     "start_time": "2022-11-09T11:23:42.882151Z"
    }
   },
   "outputs": [
    {
     "data": {
      "text/plain": [
       "<module 'rnaseq' from '/u/davidm/Documents/Master-thesis/Scripts/RNA-seq/python/rnaseq/__init__.py'>"
      ]
     },
     "execution_count": 3,
     "metadata": {},
     "output_type": "execute_result"
    }
   ],
   "source": [
    "import rnaseq\n",
    "importlib.reload(rnaseq)"
   ]
  },
  {
   "cell_type": "markdown",
   "metadata": {},
   "source": [
    "## Knee visualizations (example with BT20) "
   ]
  },
  {
   "cell_type": "code",
   "execution_count": 4,
   "metadata": {
    "ExecuteTime": {
     "end_time": "2022-11-09T11:23:45.609641Z",
     "start_time": "2022-11-09T11:23:45.605788Z"
    }
   },
   "outputs": [],
   "source": [
    "sample = \"Sample_BT20_N701\"\n",
    "quant_params = \"trimmed-reads-cutadapt-all/decoys-k19-1.4.0/customWh-top-3000\"\n",
    "genref = \"human/assembly__GRCh38-hg38/annotation__gencode/gencode_34\"\n",
    "project = \"dsp992\"\n",
    "prefix = f\"pyplot_{sample}\""
   ]
  },
  {
   "cell_type": "code",
   "execution_count": 5,
   "metadata": {
    "ExecuteTime": {
     "end_time": "2022-11-09T11:23:46.872275Z",
     "start_time": "2022-11-09T11:23:45.613703Z"
    }
   },
   "outputs": [],
   "source": [
    "f = pd.read_csv(f\"/home/arion/davidm/Data/datasets/raw/private/RNA-seq/sc/dsp992/quant/alevin/{genref}/{quant_params}/{sample}/alevin/raw_cb_frequency.txt\", delimiter='\\t', header = None)"
   ]
  },
  {
   "cell_type": "code",
   "execution_count": 6,
   "metadata": {
    "ExecuteTime": {
     "end_time": "2022-11-09T11:23:47.618561Z",
     "start_time": "2022-11-09T11:23:46.876056Z"
    }
   },
   "outputs": [
    {
     "data": {
      "image/png": "[encoded data removed]",
      "text/plain": [
       "<Figure size 252x180 with 1 Axes>"
      ]
     },
     "metadata": {
      "needs_background": "light"
     },
     "output_type": "display_data"
    }
   ],
   "source": [
    "plt.subplots(figsize=(3.5,2.5))\n",
    "plt.plot(f[1].values[f[1].values>50], c = 'black', linewidth = 0.7)\n",
    "plt.yscale(\"log\");\n",
    "plt.xscale(\"log\");\n",
    "plt.axvline(1200, color='red',linewidth=0.5)\n",
    "plt.xlabel(\"Rang du CB\")\n",
    "plt.ylabel(\"Nombre de reads\")\n",
    "plt.savefig(f\"./figs/{prefix}_knee_rank.pdf\")"
   ]
  },
  {
   "cell_type": "code",
   "execution_count": 7,
   "metadata": {
    "ExecuteTime": {
     "end_time": "2022-11-09T11:23:48.279382Z",
     "start_time": "2022-11-09T11:23:47.621564Z"
    }
   },
   "outputs": [
    {
     "data": {
      "image/png": "[encoded data removed]",
      "text/plain": [
       "<Figure size 252x180 with 1 Axes>"
      ]
     },
     "metadata": {
      "needs_background": "light"
     },
     "output_type": "display_data"
    }
   ],
   "source": [
    "plt.subplots(figsize=(3.5,2.5))\n",
    "plt.plot(f[1].values[f[1].values>50], c = 'black', linewidth = 0.7)\n",
    "plt.yscale(\"log\");\n",
    "plt.xscale(\"log\");\n",
    "plt.axvline(1300, color='red',linewidth=0.5)\n",
    "plt.xlabel(\"Rang du CB\")\n",
    "plt.ylabel(\"Nombre de reads\")\n",
    "plt.savefig(f\"./figs/{prefix}_knee_rank.pdf\")"
   ]
  },
  {
   "cell_type": "code",
   "execution_count": 8,
   "metadata": {
    "ExecuteTime": {
     "end_time": "2022-11-09T11:23:48.413143Z",
     "start_time": "2022-11-09T11:23:48.283074Z"
    }
   },
   "outputs": [
    {
     "data": {
      "image/png": "[encoded data removed]",
      "text/plain": [
       "<Figure size 252x180 with 1 Axes>"
      ]
     },
     "metadata": {
      "needs_background": "light"
     },
     "output_type": "display_data"
    }
   ],
   "source": [
    "plt.subplots(figsize=(3.5,2.5))\n",
    "plt.xlim(-500,10000)\n",
    "plt.plot(np.cumsum(f[1].values[f[1].values>50]), c = 'black', linewidth = 0.7)\n",
    "plt.axvline(1200, color='red', linewidth=0.5)\n",
    "plt.xlabel(\"Rang du CB\")\n",
    "plt.ylabel(\"Somme cumulée du nombre de reads\")\n",
    "plt.savefig(f\"./figs/{prefix}_knee_cumsum.pdf\")"
   ]
  },
  {
   "cell_type": "code",
   "execution_count": 9,
   "metadata": {
    "ExecuteTime": {
     "end_time": "2022-11-09T11:23:48.546529Z",
     "start_time": "2022-11-09T11:23:48.416619Z"
    }
   },
   "outputs": [
    {
     "data": {
      "image/png": "[encoded data removed]",
      "text/plain": [
       "<Figure size 252x180 with 1 Axes>"
      ]
     },
     "metadata": {
      "needs_background": "light"
     },
     "output_type": "display_data"
    }
   ],
   "source": [
    "plt.subplots(figsize=(3.5,2.5))\n",
    "plt.xlim(-500,10000)\n",
    "plt.plot(np.cumsum(f[1].values[f[1].values>50]), c = 'black', linewidth = 0.7)\n",
    "plt.axvline(1300, color='red', linewidth=0.5)\n",
    "plt.xlabel(\"Rang du CB\")\n",
    "plt.ylabel(\"Somme cumulée du nombre de reads\")\n",
    "plt.savefig(f\"./figs/{prefix}_knee_cumsum.pdf\")"
   ]
  },
  {
   "cell_type": "code",
   "execution_count": 10,
   "metadata": {
    "ExecuteTime": {
     "end_time": "2022-11-09T11:23:48.951198Z",
     "start_time": "2022-11-09T11:23:48.550505Z"
    }
   },
   "outputs": [
    {
     "data": {
      "image/png": "[encoded data removed]",
      "text/plain": [
       "<Figure size 252x180 with 1 Axes>"
      ]
     },
     "metadata": {
      "needs_background": "light"
     },
     "output_type": "display_data"
    }
   ],
   "source": [
    "_,ax = plt.subplots(figsize=(3.5,2.5))\n",
    "plt.axvline(f[1][2000], color='red',linewidth=0.5)\n",
    "rnaseq.plotting.loghist(f[1].values[f[1].values>50], bins=50, ax=ax, fc=(0,0.5,0,0.1), edgecolor=\"black\", linewidth=0.1)\n",
    "plt.xlabel(\"Nombre de reads\")\n",
    "plt.ylabel(\"Fréquence\")\n",
    "plt.savefig(f\"./figs/{prefix}_knee_dist.pdf\");"
   ]
  },
  {
   "cell_type": "markdown",
   "metadata": {},
   "source": [
    "## Double Poisson calculus to estimate the number of cells"
   ]
  },
  {
   "cell_type": "code",
   "execution_count": 11,
   "metadata": {
    "ExecuteTime": {
     "end_time": "2022-11-09T11:23:49.550261Z",
     "start_time": "2022-11-09T11:23:49.545289Z"
    }
   },
   "outputs": [],
   "source": [
    "def poisson(c,b, nc,nb,nd):\n",
    "    pc = 1 if c==\"any\" else ((nc/nd)**c)*np.exp(-nc/nd)/math.factorial(c)\n",
    "    pb = 1 if b==\"any\" else ((nb/nd)**b)*np.exp(-nb/nd)/math.factorial(b)\n",
    "    return pc * pb"
   ]
  },
  {
   "cell_type": "code",
   "execution_count": 12,
   "metadata": {
    "ExecuteTime": {
     "end_time": "2022-11-09T11:23:50.276375Z",
     "start_time": "2022-11-09T11:23:50.272354Z"
    }
   },
   "outputs": [],
   "source": [
    "# Concentrations Drop-Seq paper\n",
    "\n",
    "nd = 4 * 2 * 1e6 # number of droplets\n",
    "nc = 4 * 100000 # number of cells\n",
    "nb = 4 * 120000 # number of beads"
   ]
  },
  {
   "cell_type": "code",
   "execution_count": 13,
   "metadata": {
    "ExecuteTime": {
     "end_time": "2022-11-09T11:23:51.051245Z",
     "start_time": "2022-11-09T11:23:51.047039Z"
    }
   },
   "outputs": [],
   "source": [
    "# Concentrations lab experiments\n",
    "\n",
    "nd = 1.2 * 2 * 1e6 # number of droplets\n",
    "nc = 1.2 * 120000 # number of cells\n",
    "nb = 1.2 * 120000 # number of beads"
   ]
  },
  {
   "cell_type": "code",
   "execution_count": 14,
   "metadata": {
    "ExecuteTime": {
     "end_time": "2022-11-09T11:23:51.748191Z",
     "start_time": "2022-11-09T11:23:51.741404Z"
    }
   },
   "outputs": [
    {
     "data": {
      "text/plain": [
       "2120841"
      ]
     },
     "execution_count": 14,
     "metadata": {},
     "output_type": "execute_result"
    }
   ],
   "source": [
    "len(f) # Number of unique cell barcodes in read 1 file"
   ]
  },
  {
   "cell_type": "markdown",
   "metadata": {
    "heading_collapsed": true
   },
   "source": [
    "### Some statistics"
   ]
  },
  {
   "cell_type": "markdown",
   "metadata": {
    "hidden": true
   },
   "source": [
    "#### Empty droplets (no cell but at least one bead)"
   ]
  },
  {
   "cell_type": "code",
   "execution_count": 164,
   "metadata": {
    "ExecuteTime": {
     "end_time": "2021-12-09T18:10:52.559077Z",
     "start_time": "2021-12-09T18:10:52.549117Z"
    },
    "hidden": true
   },
   "outputs": [
    {
     "data": {
      "text/plain": [
       "131625.8324810187"
      ]
     },
     "execution_count": 164,
     "metadata": {},
     "output_type": "execute_result"
    }
   ],
   "source": [
    "(poisson(c=0, b=\"any\", nc=nc, nb = nb, nd = nd) - poisson(c=0, b=0, nc=nc, nb = nb, nd = nd))*nd"
   ]
  },
  {
   "cell_type": "code",
   "execution_count": 193,
   "metadata": {
    "ExecuteTime": {
     "end_time": "2021-12-09T19:05:53.128312Z",
     "start_time": "2021-12-09T19:05:53.118514Z"
    },
    "hidden": true
   },
   "outputs": [
    {
     "data": {
      "text/plain": [
       "52650.332992407486"
      ]
     },
     "execution_count": 193,
     "metadata": {},
     "output_type": "execute_result"
    }
   ],
   "source": [
    "(poisson(c=0, b=\"any\", nc=nc, nb = nb, nd = nd) - poisson(c=0, b=0, nc=nc, nb = nb, nd = nd))*nd * 0.4 # after washing the beads only get 20-40% "
   ]
  },
  {
   "cell_type": "markdown",
   "metadata": {
    "hidden": true
   },
   "source": [
    "##### Most of empty droplets contain 1 or 2 beads"
   ]
  },
  {
   "cell_type": "code",
   "execution_count": 203,
   "metadata": {
    "ExecuteTime": {
     "end_time": "2021-12-09T19:11:14.334488Z",
     "start_time": "2021-12-09T19:11:14.325241Z"
    },
    "hidden": true
   },
   "outputs": [
    {
     "data": {
      "text/plain": [
       "52619.215669555524"
      ]
     },
     "execution_count": 203,
     "metadata": {},
     "output_type": "execute_result"
    }
   ],
   "source": [
    "(poisson(c=0, b=1, nc=nc, nb = nb, nd = nd) + \n",
    "poisson(c=0, b=2, nc=nc, nb = nb, nd = nd)) * nd * 0.4"
   ]
  },
  {
   "cell_type": "markdown",
   "metadata": {
    "hidden": true
   },
   "source": [
    "##### Empty barcodes"
   ]
  },
  {
   "cell_type": "code",
   "execution_count": 226,
   "metadata": {
    "ExecuteTime": {
     "end_time": "2021-12-09T20:01:14.820301Z",
     "start_time": "2021-12-09T20:01:14.812253Z"
    },
    "hidden": true
   },
   "outputs": [
    {
     "name": "stdout",
     "output_type": "stream",
     "text": [
      "54151.81418420277\n"
     ]
    }
   ],
   "source": [
    "# empty droplets contain 1 or 2 beads most of the time ; after washing only get 20-40% \n",
    "\n",
    "e = (poisson(c=0, b=1, nc=nc, nb = nb, nd = nd) + \n",
    "poisson(c=0, b=2, nc=nc, nb = nb, nd = nd) * 2) * nd * 0.4\n",
    "\n",
    "print(e)"
   ]
  },
  {
   "cell_type": "code",
   "execution_count": 227,
   "metadata": {
    "ExecuteTime": {
     "end_time": "2021-12-09T20:01:29.553243Z",
     "start_time": "2021-12-09T20:01:29.546317Z"
    },
    "hidden": true
   },
   "outputs": [
    {
     "data": {
      "text/plain": [
       "52000.0"
      ]
     },
     "execution_count": 227,
     "metadata": {},
     "output_type": "execute_result"
    }
   ],
   "source": [
    "130000*0.4"
   ]
  },
  {
   "cell_type": "markdown",
   "metadata": {
    "heading_collapsed": true,
    "hidden": true
   },
   "source": [
    "#### Number of droplets containing a least one bead and one cell"
   ]
  },
  {
   "cell_type": "code",
   "execution_count": 179,
   "metadata": {
    "ExecuteTime": {
     "end_time": "2021-12-09T18:35:06.853786Z",
     "start_time": "2021-12-09T18:35:06.843453Z"
    },
    "hidden": true
   },
   "outputs": [
    {
     "data": {
      "text/plain": [
       "8139.286916784361"
      ]
     },
     "execution_count": 179,
     "metadata": {},
     "output_type": "execute_result"
    }
   ],
   "source": [
    "(1 - (poisson(c=0, b=\"any\", nc=nc, nb = nb, nd = nd) +\\\n",
    "     poisson(c='any', b=0, nc=nc, nb = nb, nd = nd) -\\\n",
    "     poisson(c=0, b=0, nc=nc, nb = nb, nd = nd))) * nd"
   ]
  },
  {
   "cell_type": "code",
   "execution_count": 214,
   "metadata": {
    "ExecuteTime": {
     "end_time": "2021-12-09T19:21:56.817553Z",
     "start_time": "2021-12-09T19:21:56.803735Z"
    },
    "hidden": true
   },
   "outputs": [
    {
     "name": "stdout",
     "output_type": "stream",
     "text": [
      "3255.7147667137447\n"
     ]
    }
   ],
   "source": [
    "# after washing the beads only get 20-40% \n",
    "\n",
    "bc = (1 - (poisson(c=0, b=\"any\", nc=nc, nb = nb, nd = nd) +\\\n",
    "     poisson(c='any', b=0, nc=nc, nb = nb, nd = nd) -\\\n",
    "     poisson(c=0, b=0, nc=nc, nb = nb, nd = nd))) * nd * 0.4 \n",
    "\n",
    "print(bc)"
   ]
  },
  {
   "cell_type": "markdown",
   "metadata": {
    "hidden": true
   },
   "source": [
    "#### More than one bead and one cell"
   ]
  },
  {
   "cell_type": "code",
   "execution_count": 168,
   "metadata": {
    "ExecuteTime": {
     "end_time": "2021-12-09T18:25:07.271157Z",
     "start_time": "2021-12-09T18:25:07.259779Z"
    },
    "hidden": true
   },
   "outputs": [
    {
     "data": {
      "text/plain": [
       "476.2943435481226"
      ]
     },
     "execution_count": 168,
     "metadata": {},
     "output_type": "execute_result"
    }
   ],
   "source": [
    "(1 - (poisson(c=1, b=1, nc=nc, nb = nb, nd = nd) +\\\n",
    "     poisson(c=\"any\", b=0, nc=nc, nb = nb, nd = nd)+\\\n",
    "     poisson(c=0, b=\"any\", nc=nc, nb = nb, nd = nd) -\\\n",
    "     poisson(c=0, b=0, nc=nc, nb = nb, nd = nd))) * nd"
   ]
  },
  {
   "cell_type": "code",
   "execution_count": 235,
   "metadata": {
    "ExecuteTime": {
     "end_time": "2021-12-09T20:36:00.027448Z",
     "start_time": "2021-12-09T20:36:00.018243Z"
    },
    "hidden": true
   },
   "outputs": [
    {
     "data": {
      "text/plain": [
       "459.77955439417445"
      ]
     },
     "execution_count": 235,
     "metadata": {},
     "output_type": "execute_result"
    }
   ],
   "source": [
    "(poisson(c=1, b=2, nc=nc, nb = nb, nd = nd) +\\\n",
    "     poisson(c=2, b=1, nc=nc, nb = nb, nd = nd)) * nd "
   ]
  },
  {
   "cell_type": "markdown",
   "metadata": {},
   "source": [
    "### Good barcodes vs doublet expectations"
   ]
  },
  {
   "cell_type": "markdown",
   "metadata": {},
   "source": [
    "#### Exactly one bead and one cell"
   ]
  },
  {
   "cell_type": "code",
   "execution_count": 15,
   "metadata": {
    "ExecuteTime": {
     "end_time": "2022-11-09T11:23:54.564078Z",
     "start_time": "2022-11-09T11:23:54.556898Z"
    }
   },
   "outputs": [
    {
     "data": {
      "text/plain": [
       "7662.99257323624"
      ]
     },
     "execution_count": 15,
     "metadata": {},
     "output_type": "execute_result"
    }
   ],
   "source": [
    "poisson(c=1, b=1, nc=nc, nb = nb, nd = nd) * nd"
   ]
  },
  {
   "cell_type": "code",
   "execution_count": 16,
   "metadata": {
    "ExecuteTime": {
     "end_time": "2022-11-09T11:23:55.241250Z",
     "start_time": "2022-11-09T11:23:55.237117Z"
    }
   },
   "outputs": [
    {
     "name": "stdout",
     "output_type": "stream",
     "text": [
      "1532.598514647248\n"
     ]
    }
   ],
   "source": [
    "good_bc = poisson(c=1, b=1, nc=nc, nb = nb, nd = nd) * nd * 0.2\n",
    "print(good_bc)"
   ]
  },
  {
   "cell_type": "code",
   "execution_count": 17,
   "metadata": {
    "ExecuteTime": {
     "end_time": "2022-11-09T11:23:55.880561Z",
     "start_time": "2022-11-09T11:23:55.877355Z"
    }
   },
   "outputs": [
    {
     "name": "stdout",
     "output_type": "stream",
     "text": [
      "3065.197029294496\n"
     ]
    }
   ],
   "source": [
    "good_bc = poisson(c=1, b=1, nc=nc, nb = nb, nd = nd) * nd * 0.4\n",
    "print(good_bc)"
   ]
  },
  {
   "cell_type": "code",
   "execution_count": 18,
   "metadata": {
    "ExecuteTime": {
     "end_time": "2022-11-09T11:23:56.696895Z",
     "start_time": "2022-11-09T11:23:56.692614Z"
    }
   },
   "outputs": [
    {
     "name": "stdout",
     "output_type": "stream",
     "text": [
      "874.4542269557877\n"
     ]
    }
   ],
   "source": [
    "nc=80000\n",
    "good_bc = poisson(c=1, b=1, nc=nc, nb = nb, nd = nd) * nd * 0.2\n",
    "print(good_bc)"
   ]
  },
  {
   "cell_type": "code",
   "execution_count": 19,
   "metadata": {
    "ExecuteTime": {
     "end_time": "2022-11-09T11:23:57.358414Z",
     "start_time": "2022-11-09T11:23:57.353912Z"
    }
   },
   "outputs": [
    {
     "name": "stdout",
     "output_type": "stream",
     "text": [
      "1748.9084539115754\n"
     ]
    }
   ],
   "source": [
    "nc=80000\n",
    "good_bc = poisson(c=1, b=1, nc=nc, nb = nb, nd = nd) * nd * 0.4\n",
    "print(good_bc)"
   ]
  },
  {
   "cell_type": "markdown",
   "metadata": {},
   "source": [
    "#### Bead doublets"
   ]
  },
  {
   "cell_type": "code",
   "execution_count": 20,
   "metadata": {
    "ExecuteTime": {
     "end_time": "2022-11-09T11:23:58.688603Z",
     "start_time": "2022-11-09T11:23:58.680276Z"
    }
   },
   "outputs": [
    {
     "data": {
      "text/plain": [
       "136.08683769419372"
      ]
     },
     "execution_count": 20,
     "metadata": {},
     "output_type": "execute_result"
    }
   ],
   "source": [
    "(1 - (poisson(c=\"any\", b=1, nc=nc, nb = nb, nd = nd) -\n",
    "        poisson(c=0, b=1, nc=nc, nb = nb, nd = nd) +\n",
    "        poisson(c=\"any\", b=0, nc=nc, nb = nb, nd = nd) +\n",
    "        poisson(c=0, b=\"any\", nc=nc, nb = nb, nd = nd) -\n",
    "        poisson(c=0, b=0, nc=nc, nb = nb, nd = nd))) * nd"
   ]
  },
  {
   "cell_type": "markdown",
   "metadata": {},
   "source": [
    "##### Most of bead doublets are 2 beads and one cell"
   ]
  },
  {
   "cell_type": "code",
   "execution_count": 21,
   "metadata": {
    "ExecuteTime": {
     "end_time": "2022-11-09T11:23:59.960471Z",
     "start_time": "2022-11-09T11:23:59.953455Z"
    }
   },
   "outputs": [
    {
     "data": {
      "text/plain": [
       "131.16813404336813"
      ]
     },
     "execution_count": 21,
     "metadata": {},
     "output_type": "execute_result"
    }
   ],
   "source": [
    "poisson(c=1, b=2, nc=nc, nb = nb, nd = nd) * nd # 2 beads and 1 cell"
   ]
  },
  {
   "cell_type": "code",
   "execution_count": 22,
   "metadata": {
    "ExecuteTime": {
     "end_time": "2022-11-09T11:24:00.620458Z",
     "start_time": "2022-11-09T11:24:00.613520Z"
    }
   },
   "outputs": [
    {
     "data": {
      "text/plain": [
       "2.186135567389469"
      ]
     },
     "execution_count": 22,
     "metadata": {},
     "output_type": "execute_result"
    }
   ],
   "source": [
    "poisson(c=2, b=2, nc=nc, nb = nb, nd = nd) * nd # 2 beads and 2 cells"
   ]
  },
  {
   "cell_type": "markdown",
   "metadata": {},
   "source": [
    "##### Bead doublet barcodes"
   ]
  },
  {
   "cell_type": "code",
   "execution_count": 25,
   "metadata": {
    "ExecuteTime": {
     "end_time": "2022-11-09T11:24:13.599435Z",
     "start_time": "2022-11-09T11:24:13.595727Z"
    }
   },
   "outputs": [
    {
     "name": "stdout",
     "output_type": "stream",
     "text": [
      "58.296948463719175\n"
     ]
    }
   ],
   "source": [
    "# droplets with bead doublets contain 2 beads most of the time ; after washing only get 20-40% \n",
    "\n",
    "db = poisson(c=2, b=1, nc=nc, nb = nb, nd = nd) * nd * 2 *  0.4  \n",
    "print(db)"
   ]
  },
  {
   "cell_type": "markdown",
   "metadata": {},
   "source": [
    "#### Cell doublets"
   ]
  },
  {
   "cell_type": "code",
   "execution_count": 26,
   "metadata": {
    "ExecuteTime": {
     "end_time": "2022-11-09T11:24:14.601105Z",
     "start_time": "2022-11-09T11:24:14.592504Z"
    }
   },
   "outputs": [
    {
     "data": {
      "text/plain": [
       "75.94317154655528"
      ]
     },
     "execution_count": 26,
     "metadata": {},
     "output_type": "execute_result"
    }
   ],
   "source": [
    "(1 - (poisson(c=1, b=\"any\", nc=nc, nb = nb, nd = nd) -\n",
    "        poisson(c=1, b=0, nc=nc, nb = nb, nd = nd) +\n",
    "        poisson(c=\"any\", b=0, nc=nc, nb = nb, nd = nd) +\n",
    "        poisson(c=0, b=\"any\", nc=nc, nb = nb, nd = nd) -\n",
    "        poisson(c=0, b=0, nc=nc, nb = nb, nd = nd))) * nd"
   ]
  },
  {
   "cell_type": "markdown",
   "metadata": {},
   "source": [
    "##### Most of cell doublets are 2 cells and one bead"
   ]
  },
  {
   "cell_type": "code",
   "execution_count": 27,
   "metadata": {
    "ExecuteTime": {
     "end_time": "2022-11-09T11:24:15.865671Z",
     "start_time": "2022-11-09T11:24:15.858309Z"
    }
   },
   "outputs": [
    {
     "data": {
      "text/plain": [
       "72.87118557964897"
      ]
     },
     "execution_count": 27,
     "metadata": {},
     "output_type": "execute_result"
    }
   ],
   "source": [
    "poisson(c=2, b=1, nc=nc, nb = nb, nd = nd) * nd # 2 cells and 1 bead "
   ]
  },
  {
   "cell_type": "markdown",
   "metadata": {},
   "source": [
    "##### Cell doublet barcodes"
   ]
  },
  {
   "cell_type": "code",
   "execution_count": 28,
   "metadata": {
    "ExecuteTime": {
     "end_time": "2022-11-09T11:24:16.826644Z",
     "start_time": "2022-11-09T11:24:16.822320Z"
    }
   },
   "outputs": [
    {
     "name": "stdout",
     "output_type": "stream",
     "text": [
      "29.148474231859588\n"
     ]
    }
   ],
   "source": [
    "# after washing only get 20-40% \n",
    "\n",
    "dc = poisson(c=2, b=1, nc=nc, nb = nb, nd = nd) * nd * 0.4  \n",
    "print(dc)"
   ]
  },
  {
   "cell_type": "markdown",
   "metadata": {},
   "source": [
    "#### Cell doublet rate"
   ]
  },
  {
   "cell_type": "code",
   "execution_count": 29,
   "metadata": {
    "ExecuteTime": {
     "end_time": "2022-11-09T11:24:27.277818Z",
     "start_time": "2022-11-09T11:24:27.271279Z"
    }
   },
   "outputs": [
    {
     "data": {
      "text/plain": [
       "29.148474231859588"
      ]
     },
     "execution_count": 29,
     "metadata": {},
     "output_type": "execute_result"
    }
   ],
   "source": [
    "dc"
   ]
  },
  {
   "cell_type": "code",
   "execution_count": 30,
   "metadata": {
    "ExecuteTime": {
     "end_time": "2022-11-09T11:24:27.843819Z",
     "start_time": "2022-11-09T11:24:27.837126Z"
    }
   },
   "outputs": [
    {
     "data": {
      "text/plain": [
       "0.015873015873015872"
      ]
     },
     "execution_count": 30,
     "metadata": {},
     "output_type": "execute_result"
    }
   ],
   "source": [
    "dc/(good_bc+dc+db)"
   ]
  },
  {
   "cell_type": "code",
   "execution_count": 31,
   "metadata": {
    "ExecuteTime": {
     "end_time": "2022-11-09T11:24:28.449381Z",
     "start_time": "2022-11-09T11:24:28.442914Z"
    }
   },
   "outputs": [
    {
     "data": {
      "text/plain": [
       "0.030303030303030304"
      ]
     },
     "execution_count": 31,
     "metadata": {},
     "output_type": "execute_result"
    }
   ],
   "source": [
    "100/3300"
   ]
  },
  {
   "cell_type": "markdown",
   "metadata": {},
   "source": [
    "#### Bead doublet rate"
   ]
  },
  {
   "cell_type": "code",
   "execution_count": 32,
   "metadata": {
    "ExecuteTime": {
     "end_time": "2022-11-09T11:24:29.372814Z",
     "start_time": "2022-11-09T11:24:29.366337Z"
    }
   },
   "outputs": [
    {
     "data": {
      "text/plain": [
       "58.296948463719175"
      ]
     },
     "execution_count": 32,
     "metadata": {},
     "output_type": "execute_result"
    }
   ],
   "source": [
    "db"
   ]
  },
  {
   "cell_type": "code",
   "execution_count": 33,
   "metadata": {
    "ExecuteTime": {
     "end_time": "2022-11-09T11:24:30.322327Z",
     "start_time": "2022-11-09T11:24:30.315786Z"
    }
   },
   "outputs": [
    {
     "data": {
      "text/plain": [
       "0.031746031746031744"
      ]
     },
     "execution_count": 33,
     "metadata": {},
     "output_type": "execute_result"
    }
   ],
   "source": [
    "db/(good_bc+dc+db)"
   ]
  },
  {
   "cell_type": "code",
   "execution_count": 34,
   "metadata": {
    "ExecuteTime": {
     "end_time": "2022-11-09T11:24:31.716808Z",
     "start_time": "2022-11-09T11:24:31.710299Z"
    }
   },
   "outputs": [
    {
     "data": {
      "text/plain": [
       "0.06060606060606061"
      ]
     },
     "execution_count": 34,
     "metadata": {},
     "output_type": "execute_result"
    }
   ],
   "source": [
    "200/3300"
   ]
  }
 ],
 "metadata": {
  "kernelspec": {
   "display_name": "Python 3",
   "language": "python",
   "name": "python3"
  },
  "language_info": {
   "codemirror_mode": {
    "name": "ipython",
    "version": 3
   },
   "file_extension": ".py",
   "mimetype": "text/x-python",
   "name": "python",
   "nbconvert_exporter": "python",
   "pygments_lexer": "ipython3",
   "version": "3.6.8"
  },
  "toc": {
   "base_numbering": 1,
   "nav_menu": {},
   "number_sections": true,
   "sideBar": true,
   "skip_h1_title": false,
   "title_cell": "Table of Contents",
   "title_sidebar": "Contents",
   "toc_cell": false,
   "toc_position": {},
   "toc_section_display": true,
   "toc_window_display": false
  }
 },
 "nbformat": 4,
 "nbformat_minor": 5
}
