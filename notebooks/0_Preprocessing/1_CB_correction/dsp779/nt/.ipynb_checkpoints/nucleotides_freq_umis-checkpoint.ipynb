{
 "cells": [
  {
   "cell_type": "code",
   "execution_count": 76,
   "metadata": {
    "ExecuteTime": {
     "end_time": "2021-07-14T15:30:24.615268Z",
     "start_time": "2021-07-14T15:30:24.610359Z"
    }
   },
   "outputs": [],
   "source": [
    "import pandas as pd\n",
    "import numpy as np\n",
    "import matplotlib.pyplot as plt\n",
    "import itertools"
   ]
  },
  {
   "cell_type": "code",
   "execution_count": 51,
   "metadata": {
    "ExecuteTime": {
     "end_time": "2021-07-14T13:52:56.723807Z",
     "start_time": "2021-07-14T13:52:56.715743Z"
    }
   },
   "outputs": [],
   "source": [
    "%matplotlib inline\n",
    "plt.rcParams['figure.dpi'] = 110"
   ]
  },
  {
   "cell_type": "code",
   "execution_count": 74,
   "metadata": {
    "ExecuteTime": {
     "end_time": "2021-07-14T15:29:43.899156Z",
     "start_time": "2021-07-14T15:29:43.892935Z"
    }
   },
   "outputs": [],
   "source": [
    "def hammingDist(str1, str2, fillchar = '-'):\n",
    "    return sum([ch1 != ch2 for (ch1,ch2) in itertools.zip_longest(str1, str2, fillvalue = fillchar)])"
   ]
  },
  {
   "cell_type": "code",
   "execution_count": null,
   "metadata": {},
   "outputs": [],
   "source": []
  },
  {
   "cell_type": "code",
   "execution_count": null,
   "metadata": {},
   "outputs": [],
   "source": []
  },
  {
   "cell_type": "code",
   "execution_count": 64,
   "metadata": {
    "ExecuteTime": {
     "end_time": "2021-07-14T15:27:16.688934Z",
     "start_time": "2021-07-14T15:27:15.938218Z"
    }
   },
   "outputs": [],
   "source": [
    "xa = np.loadtxt(\"/home/arion/davidm/Data/datasets/raw/private/RNA-seq/sc/dsp779/raw-fastqs/Sample_N701_-_Not_Transfected/ACCGCATCAACT.txt\", dtype = str)\n",
    "xa = np.array([list(s[12:]) for s in xa]).T"
   ]
  },
  {
   "cell_type": "code",
   "execution_count": 65,
   "metadata": {
    "ExecuteTime": {
     "end_time": "2021-07-14T15:27:17.862783Z",
     "start_time": "2021-07-14T15:27:17.243807Z"
    }
   },
   "outputs": [
    {
     "name": "stderr",
     "output_type": "stream",
     "text": [
      "/u/davidm/VirtualEns/python_3.6.8/lib64/python3.6/site-packages/ipykernel_launcher.py:2: VisibleDeprecationWarning: Creating an ndarray from ragged nested sequences (which is a list-or-tuple of lists-or-tuples-or ndarrays with different lengths or shapes) is deprecated. If you meant to do this, you must specify 'dtype=object' when creating the ndarray\n",
      "  \n"
     ]
    }
   ],
   "source": [
    "idx = []\n",
    "for unique_nts in np.array([np.unique(pos, axis = 0) for pos in xa]) :\n",
    "    idx.append([nt in [\"A\", \"T\", \"G\", \"C\"] for nt in unique_nts])\n",
    "    \n",
    "nts = []\n",
    "counts = []\n",
    "for i,x in zip(idx, [np.unique(pos, axis = 0, return_counts=True) for pos in xa]) :\n",
    "    nts.append(x[0][i])\n",
    "    counts.append(x[1][i])"
   ]
  },
  {
   "cell_type": "code",
   "execution_count": 66,
   "metadata": {
    "ExecuteTime": {
     "end_time": "2021-07-14T15:27:18.610881Z",
     "start_time": "2021-07-14T15:27:18.409300Z"
    }
   },
   "outputs": [
    {
     "data": {
      "image/png": "[encoded data removed]",
      "text/plain": [
       "<Figure size 660x440 with 1 Axes>"
      ]
     },
     "metadata": {
      "needs_background": "light"
     },
     "output_type": "display_data"
    }
   ],
   "source": [
    "N = 8\n",
    "\n",
    "ind = np.arange(N) # the x locations for the groups\n",
    "\n",
    "width = 0.35\n",
    "fig, ax = plt.subplots()\n",
    "\n",
    "bottom = 0\n",
    "for c in np.array(counts).T :\n",
    "    ax.bar(ind, c, width = 0.25, bottom = bottom)\n",
    "    bottom += c\n",
    "\n",
    "# ax.set_ylabel('Scores')\n",
    "# ax.set_title('Scores by group and gender')\n",
    "# ax.set_xticks(ind, ('G1', 'G2', 'G3', 'G4', 'G5'))\n",
    "# ax.set_yticks(np.arange(0, 81, 10))\n",
    "\n",
    "ax.legend(labels = np.unique(nts))\n",
    "\n",
    "plt.show()"
   ]
  },
  {
   "cell_type": "code",
   "execution_count": null,
   "metadata": {},
   "outputs": [],
   "source": []
  },
  {
   "cell_type": "code",
   "execution_count": 67,
   "metadata": {
    "ExecuteTime": {
     "end_time": "2021-07-14T15:27:31.938649Z",
     "start_time": "2021-07-14T15:27:31.853122Z"
    }
   },
   "outputs": [],
   "source": [
    "xt = np.loadtxt(\"/home/arion/davidm/Data/datasets/raw/private/RNA-seq/sc/dsp779/raw-fastqs/Sample_N701_-_Not_Transfected/TCCGCATCAACT.txt\", dtype = str)\n",
    "xt = np.array([list(s[12:]) for s in xt]).T"
   ]
  },
  {
   "cell_type": "code",
   "execution_count": 68,
   "metadata": {
    "ExecuteTime": {
     "end_time": "2021-07-14T15:27:46.674031Z",
     "start_time": "2021-07-14T15:27:46.579088Z"
    }
   },
   "outputs": [
    {
     "name": "stderr",
     "output_type": "stream",
     "text": [
      "/u/davidm/VirtualEns/python_3.6.8/lib64/python3.6/site-packages/ipykernel_launcher.py:2: VisibleDeprecationWarning: Creating an ndarray from ragged nested sequences (which is a list-or-tuple of lists-or-tuples-or ndarrays with different lengths or shapes) is deprecated. If you meant to do this, you must specify 'dtype=object' when creating the ndarray\n",
      "  \n"
     ]
    }
   ],
   "source": [
    "idx = []\n",
    "for unique_nts in np.array([np.unique(pos, axis = 0) for pos in xt]) :\n",
    "    idx.append([nt in [\"A\", \"T\", \"G\", \"C\"] for nt in unique_nts])\n",
    "    \n",
    "nts = []\n",
    "counts = []\n",
    "for i,x in zip(idx, [np.unique(pos, axis = 0, return_counts=True) for pos in xt]) :\n",
    "    nts.append(x[0][i])\n",
    "    counts.append(x[1][i])"
   ]
  },
  {
   "cell_type": "code",
   "execution_count": 69,
   "metadata": {
    "ExecuteTime": {
     "end_time": "2021-07-14T15:27:48.056789Z",
     "start_time": "2021-07-14T15:27:47.850759Z"
    }
   },
   "outputs": [
    {
     "data": {
      "image/png": "[encoded data removed]",
      "text/plain": [
       "<Figure size 660x440 with 1 Axes>"
      ]
     },
     "metadata": {
      "needs_background": "light"
     },
     "output_type": "display_data"
    }
   ],
   "source": [
    "N = 8\n",
    "\n",
    "ind = np.arange(N) # the x locations for the groups\n",
    "\n",
    "width = 0.35\n",
    "fig, ax = plt.subplots()\n",
    "\n",
    "bottom = 0\n",
    "for c in np.array(counts).T :\n",
    "    ax.bar(ind, c, width = 0.25, bottom = bottom)\n",
    "    bottom += c\n",
    "\n",
    "# ax.set_ylabel('Scores')\n",
    "# ax.set_title('Scores by group and gender')\n",
    "# ax.set_xticks(ind, ('G1', 'G2', 'G3', 'G4', 'G5'))\n",
    "# ax.set_yticks(np.arange(0, 81, 10))\n",
    "\n",
    "ax.legend(labels = np.unique(nts))\n",
    "\n",
    "plt.show()"
   ]
  },
  {
   "cell_type": "code",
   "execution_count": null,
   "metadata": {},
   "outputs": [],
   "source": []
  },
  {
   "cell_type": "code",
   "execution_count": null,
   "metadata": {},
   "outputs": [],
   "source": []
  },
  {
   "cell_type": "code",
   "execution_count": 72,
   "metadata": {
    "ExecuteTime": {
     "end_time": "2021-07-14T15:28:37.365628Z",
     "start_time": "2021-07-14T15:28:36.971978Z"
    }
   },
   "outputs": [],
   "source": [
    "xa = np.loadtxt(\"/home/arion/davidm/Data/datasets/raw/private/RNA-seq/sc/dsp779/raw-fastqs/Sample_N701_-_Not_Transfected/ACCGCATCAACT.txt\", dtype = str)\n",
    "xa = np.array([s[12:] for s in xa]).T\n",
    "\n",
    "xt = np.loadtxt(\"/home/arion/davidm/Data/datasets/raw/private/RNA-seq/sc/dsp779/raw-fastqs/Sample_N701_-_Not_Transfected/TCCGCATCAACT.txt\", dtype = str)\n",
    "xt = np.array([s[12:] for s in xt]).T"
   ]
  },
  {
   "cell_type": "code",
   "execution_count": 86,
   "metadata": {
    "ExecuteTime": {
     "end_time": "2021-07-14T15:45:30.210631Z",
     "start_time": "2021-07-14T15:45:30.165085Z"
    }
   },
   "outputs": [
    {
     "data": {
      "text/plain": [
       "6.4458923208923204"
      ]
     },
     "execution_count": 86,
     "metadata": {},
     "output_type": "execute_result"
    }
   ],
   "source": [
    "len(xa)/len(np.unique(xa))"
   ]
  },
  {
   "cell_type": "code",
   "execution_count": 87,
   "metadata": {
    "ExecuteTime": {
     "end_time": "2021-07-14T15:45:38.762903Z",
     "start_time": "2021-07-14T15:45:38.747537Z"
    }
   },
   "outputs": [
    {
     "data": {
      "text/plain": [
       "1.8628085310328302"
      ]
     },
     "execution_count": 87,
     "metadata": {},
     "output_type": "execute_result"
    }
   ],
   "source": [
    "len(xt)/len(np.unique(xt))"
   ]
  },
  {
   "cell_type": "code",
   "execution_count": 105,
   "metadata": {
    "ExecuteTime": {
     "end_time": "2021-07-14T16:17:42.208044Z",
     "start_time": "2021-07-14T16:17:42.129391Z"
    }
   },
   "outputs": [
    {
     "data": {
      "text/plain": [
       "0.2874342446469586"
      ]
     },
     "execution_count": 105,
     "metadata": {},
     "output_type": "execute_result"
    }
   ],
   "source": [
    "len(np.intersect1d(np.unique(xa), np.unique(xt))) / (len(np.unique(xa)) + len(np.unique(xt)))"
   ]
  },
  {
   "cell_type": "code",
   "execution_count": null,
   "metadata": {},
   "outputs": [],
   "source": []
  },
  {
   "cell_type": "code",
   "execution_count": null,
   "metadata": {},
   "outputs": [],
   "source": []
  },
  {
   "cell_type": "code",
   "execution_count": 100,
   "metadata": {
    "ExecuteTime": {
     "end_time": "2021-07-14T16:15:14.400787Z",
     "start_time": "2021-07-14T16:15:14.283128Z"
    }
   },
   "outputs": [],
   "source": [
    "x1 = np.loadtxt(\"/home/arion/davidm/Data/datasets/raw/private/RNA-seq/sc/dsp779/raw-fastqs/Sample_N701_-_Not_Transfected/bc1.txt\", dtype = str)\n",
    "x1 = np.array([s[12:] for s in x1]).T\n",
    "\n",
    "x2 = np.loadtxt(\"/home/arion/davidm/Data/datasets/raw/private/RNA-seq/sc/dsp779/raw-fastqs/Sample_N701_-_Not_Transfected/bc2.txt\", dtype = str)\n",
    "x2 = np.array([s[12:] for s in x2]).T"
   ]
  },
  {
   "cell_type": "code",
   "execution_count": 101,
   "metadata": {
    "ExecuteTime": {
     "end_time": "2021-07-14T16:15:19.714350Z",
     "start_time": "2021-07-14T16:15:19.697376Z"
    }
   },
   "outputs": [
    {
     "data": {
      "text/plain": [
       "4.96764172922599"
      ]
     },
     "execution_count": 101,
     "metadata": {},
     "output_type": "execute_result"
    }
   ],
   "source": [
    "len(x1)/len(np.unique(x1))"
   ]
  },
  {
   "cell_type": "code",
   "execution_count": 102,
   "metadata": {
    "ExecuteTime": {
     "end_time": "2021-07-14T16:15:20.358944Z",
     "start_time": "2021-07-14T16:15:20.345110Z"
    }
   },
   "outputs": [
    {
     "data": {
      "text/plain": [
       "4.760089686098655"
      ]
     },
     "execution_count": 102,
     "metadata": {},
     "output_type": "execute_result"
    }
   ],
   "source": [
    "len(x2)/len(np.unique(x2))"
   ]
  },
  {
   "cell_type": "code",
   "execution_count": 106,
   "metadata": {
    "ExecuteTime": {
     "end_time": "2021-07-14T16:18:07.735272Z",
     "start_time": "2021-07-14T16:18:07.659089Z"
    }
   },
   "outputs": [
    {
     "data": {
      "text/plain": [
       "0.078453829634932"
      ]
     },
     "execution_count": 106,
     "metadata": {},
     "output_type": "execute_result"
    }
   ],
   "source": [
    "len(np.intersect1d(np.unique(x1), np.unique(x2))) / (len(np.unique(x1)) + len(np.unique(x2)))"
   ]
  },
  {
   "cell_type": "code",
   "execution_count": null,
   "metadata": {},
   "outputs": [],
   "source": []
  },
  {
   "cell_type": "code",
   "execution_count": null,
   "metadata": {},
   "outputs": [],
   "source": []
  },
  {
   "cell_type": "code",
   "execution_count": null,
   "metadata": {},
   "outputs": [],
   "source": []
  },
  {
   "cell_type": "code",
   "execution_count": 73,
   "metadata": {
    "ExecuteTime": {
     "end_time": "2021-07-14T15:29:07.545661Z",
     "start_time": "2021-07-14T15:29:07.538710Z"
    }
   },
   "outputs": [
    {
     "data": {
      "text/plain": [
       "'CGCATCAT'"
      ]
     },
     "execution_count": 73,
     "metadata": {},
     "output_type": "execute_result"
    }
   ],
   "source": [
    "xa[0]"
   ]
  },
  {
   "cell_type": "code",
   "execution_count": 83,
   "metadata": {
    "ExecuteTime": {
     "end_time": "2021-07-14T15:36:50.140661Z",
     "start_time": "2021-07-14T15:36:49.565357Z"
    },
    "scrolled": false
   },
   "outputs": [
    {
     "name": "stdout",
     "output_type": "stream",
     "text": [
      "CGCATCAT\n",
      "\n",
      "(array([], dtype=float64), array([], dtype=int64))\n",
      "\n",
      "\n",
      "\n",
      "ACTTGGGT\n",
      "\n",
      "(array(['ACTCGGGT', 'ACTGGGGT', 'ACTTCGGT', 'ACTTGCGT', 'ACTTGGGA',\n",
      "       'ACTTGGGC', 'ACTTGGGG'], dtype='<U8'), array([5, 1, 1, 1, 2, 3, 2]))\n",
      "\n",
      "\n",
      "\n",
      "GGTGAGGG\n",
      "\n",
      "(array(['CGTGAGGG', 'GATGAGGG', 'GCTGAGGG', 'GGAGAGGG', 'GGCGAGGG',\n",
      "       'GGGGAGGG', 'GGTAAGGG', 'GGTGAAGG', 'GGTGACGG', 'GGTGGGGG',\n",
      "       'GGTGTGGG'], dtype='<U8'), array([ 5,  1,  1,  1,  1, 11,  1,  1,  2,  1,  1]))\n",
      "\n",
      "\n",
      "\n",
      "TCCAGAGA\n",
      "\n",
      "(array(['TCCAAAGA', 'TCCAGACA', 'TCCAGAGT'], dtype='<U8'), array([4, 1, 1]))\n",
      "\n",
      "\n",
      "\n",
      "TCGTGAAC\n",
      "\n",
      "(array(['TCGCGAAC', 'TCGTGGAC', 'TCGTGTAC'], dtype='<U8'), array([1, 3, 2]))\n",
      "\n",
      "\n",
      "\n",
      "CCCCTGGC\n",
      "\n",
      "(array(['CCACTGGC', 'CCCCTCGC', 'CCGCTGGC', 'GCCCTGGC'], dtype='<U8'), array([1, 1, 1, 1]))\n",
      "\n",
      "\n",
      "\n",
      "GAGATGCT\n",
      "\n",
      "(array(['GAGATGGT', 'GGGATGCT'], dtype='<U8'), array([3, 2]))\n",
      "\n",
      "\n",
      "\n",
      "TGGTGAAC\n",
      "\n",
      "(array(['TCGTGAAC', 'TGATGAAC', 'TGGTGATC', 'TGGTGGAC'], dtype='<U8'), array([1, 1, 1, 1]))\n",
      "\n",
      "\n",
      "\n",
      "CACCTGCG\n",
      "\n",
      "(array(['CACATGCG', 'CACCTCCG', 'CACCTGCT', 'CACCTGGG', 'CACGTGCG'],\n",
      "      dtype='<U8'), array([1, 1, 1, 5, 1]))\n",
      "\n",
      "\n",
      "\n",
      "AAAGGTAG\n",
      "\n",
      "(array(['AAACGTAG', 'AAAGGGAG', 'AAAGGTAA', 'AAAGGTGG', 'AACGGTAG',\n",
      "       'AGAGGTAG', 'GAAGGTAG'], dtype='<U8'), array([1, 3, 1, 1, 2, 1, 3]))\n",
      "\n",
      "\n",
      "\n",
      "CCGTGTAG\n",
      "\n",
      "(array(['ACGTGTAG', 'CCGTGCAG', 'CCGTGGAG'], dtype='<U8'), array([1, 1, 2]))\n",
      "\n",
      "\n",
      "\n",
      "GGCATTGT\n",
      "\n",
      "(array(['GGAATTGT', 'GGCATGGT', 'GGCATTGG', 'GGGATTGT'], dtype='<U8'), array([1, 1, 1, 2]))\n",
      "\n",
      "\n",
      "\n",
      "ATGGTGAG\n",
      "\n",
      "(array(['AAGGTGAG', 'ACGGTGAG', 'AGGGTGAG', 'ATGGAGAG', 'ATGGGGAG',\n",
      "       'ATGGTGAT', 'ATGGTGGG', 'ATGTTGAG', 'GTGGTGAG'], dtype='<U8'), array([4, 1, 1, 1, 1, 1, 1, 1, 1]))\n",
      "\n",
      "\n",
      "\n",
      "CGCCGTAC\n",
      "\n",
      "(array(['CGACGTAC', 'CGCCGTAA', 'CGCCGTAG', 'CTCCGTAC'], dtype='<U8'), array([1, 2, 1, 3]))\n",
      "\n",
      "\n",
      "\n",
      "GTGGAGCA\n",
      "\n",
      "(array(['GAGGAGCA', 'GCGGAGCA', 'GGGGAGCA', 'GTGGAGGA', 'GTGGGGCA'],\n",
      "      dtype='<U8'), array([2, 5, 3, 1, 2]))\n",
      "\n",
      "\n",
      "\n",
      "GGTGGGAC\n",
      "\n",
      "(array(['AGTGGGAC', 'GGAGGGAC', 'GGCGGGAC', 'GGGGGGAC', 'GGTGGGAA',\n",
      "       'GGTGGGAG', 'GGTGGGGC', 'GGTTGGAC', 'TGTGGGAC'], dtype='<U8'), array([3, 6, 1, 5, 1, 8, 1, 2, 1]))\n",
      "\n",
      "\n",
      "\n",
      "TGGAACTT\n",
      "\n",
      "(array(['TGAAACTT'], dtype='<U8'), array([1]))\n",
      "\n",
      "\n",
      "\n",
      "ATCCCTGC\n",
      "\n",
      "(array(['ATCCCCGC', 'ATCGCTGC'], dtype='<U8'), array([1, 3]))\n",
      "\n",
      "\n",
      "\n",
      "GGAGACCG\n",
      "\n",
      "(array(['CGAGACCG', 'GAAGACCG', 'GGAAACCG', 'GGAGAACG', 'GGAGACGG',\n",
      "       'GGAGAGCG', 'GGAGGCCG', 'GGATACCG', 'GGCGACCG', 'GGGGACCG',\n",
      "       'GGTGACCG'], dtype='<U8'), array([1, 1, 3, 1, 2, 2, 1, 1, 1, 4, 1]))\n",
      "\n",
      "\n",
      "\n",
      "TACGCAAG\n",
      "\n",
      "(array(['AACGCAAG', 'TAAGCAAG', 'TACGCAAA', 'TACGCCAG', 'TACGCTAG',\n",
      "       'TACGGAAG'], dtype='<U8'), array([1, 4, 1, 1, 1, 3]))\n",
      "\n",
      "\n",
      "\n"
     ]
    }
   ],
   "source": [
    "for i in range(20) :\n",
    "    print(f\"{xa[i]}\\n\")\n",
    "    hd = []\n",
    "    for x in xt :\n",
    "        if hammingDist(xa[i], x) == 1 :\n",
    "            hd.append(x)\n",
    "    print(np.unique(hd, return_counts=True))\n",
    "    print(\"\\n\\n\")"
   ]
  }
 ],
 "metadata": {
  "kernelspec": {
   "display_name": "Python 3",
   "language": "python",
   "name": "python3"
  },
  "language_info": {
   "codemirror_mode": {
    "name": "ipython",
    "version": 3
   },
   "file_extension": ".py",
   "mimetype": "text/x-python",
   "name": "python",
   "nbconvert_exporter": "python",
   "pygments_lexer": "ipython3",
   "version": "3.6.8"
  },
  "toc": {
   "base_numbering": 1,
   "nav_menu": {},
   "number_sections": true,
   "sideBar": true,
   "skip_h1_title": false,
   "title_cell": "Table of Contents",
   "title_sidebar": "Contents",
   "toc_cell": false,
   "toc_position": {},
   "toc_section_display": true,
   "toc_window_display": false
  }
 },
 "nbformat": 4,
 "nbformat_minor": 4
}
