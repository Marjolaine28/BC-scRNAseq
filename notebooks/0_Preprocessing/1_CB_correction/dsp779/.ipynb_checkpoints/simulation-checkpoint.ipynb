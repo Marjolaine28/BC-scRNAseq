{
 "cells": [
  {
   "cell_type": "code",
   "execution_count": 1,
   "metadata": {
    "ExecuteTime": {
     "end_time": "2021-11-26T20:00:46.236224Z",
     "start_time": "2021-11-26T20:00:33.646597Z"
    }
   },
   "outputs": [],
   "source": [
    "import math  \n",
    "import itertools\n",
    "import pandas as pd\n",
    "import numpy as np\n",
    "import matplotlib.pyplot as plt"
   ]
  },
  {
   "cell_type": "code",
   "execution_count": 2,
   "metadata": {
    "ExecuteTime": {
     "end_time": "2021-11-26T20:00:46.243629Z",
     "start_time": "2021-11-26T20:00:46.239598Z"
    }
   },
   "outputs": [],
   "source": [
    "plt.rcParams['figure.dpi'] = 110\n",
    "plt.rcParams['font.size'] = 6"
   ]
  },
  {
   "cell_type": "code",
   "execution_count": 3,
   "metadata": {
    "ExecuteTime": {
     "end_time": "2021-11-26T20:00:46.256140Z",
     "start_time": "2021-11-26T20:00:46.245823Z"
    }
   },
   "outputs": [],
   "source": [
    "nucleotides = ['A', 'T', 'G', 'C']"
   ]
  },
  {
   "cell_type": "code",
   "execution_count": 4,
   "metadata": {
    "ExecuteTime": {
     "end_time": "2021-11-26T20:00:46.268808Z",
     "start_time": "2021-11-26T20:00:46.258691Z"
    }
   },
   "outputs": [],
   "source": [
    "def hammingDist(str1, str2, fillchar = '-'):\n",
    "    return sum([ch1 != ch2 for (ch1,ch2) in itertools.zip_longest(str1, str2, fillvalue = fillchar)])"
   ]
  },
  {
   "cell_type": "code",
   "execution_count": 5,
   "metadata": {
    "ExecuteTime": {
     "end_time": "2021-11-26T20:00:46.289761Z",
     "start_time": "2021-11-26T20:00:46.272727Z"
    }
   },
   "outputs": [],
   "source": [
    "def calcul_expected_neighbors_binomal(length_barcode, n_nucleotides, n_trials) :\n",
    "    \n",
    "    neighbors = (n_nucleotides - 1)*(length_barcode)\n",
    "    total = (n_nucleotides)**(length_barcode)-1\n",
    "    \n",
    "    return n_trials * (1 - (1 - neighbors/total)**(n_trials-1))\n",
    "\n",
    "\n",
    "\n",
    "def calcul_expected_neighbors_approx(length_barcode, n_nucleotides, n_trials) :\n",
    "    \n",
    "    neighbors = (n_nucleotides - 1)*(length_barcode)\n",
    "    total = (n_nucleotides)**(length_barcode) -1\n",
    "    \n",
    "    return (neighbors/total) * n_trials**2\n",
    "\n",
    "\n",
    "def generate_new_barcode(barcodes, length_barcode = 12, n_nucleotides = 4) :\n",
    "    \n",
    "    barcode = []\n",
    "    for i in range(length_barcode) :\n",
    "        barcode.append(np.random.choice(nucleotides[:n_nucleotides]))\n",
    "    barcode = ('').join(barcode)\n",
    "    if barcode not in barcodes :\n",
    "        barcodes.append(barcode)\n",
    "    else:\n",
    "        generate_new_barcode(barcodes, length_barcode, n_nucleotides)\n",
    "        \n",
    "        \n",
    "def generate_new_barcode(barcodes, length_barcode = 12, n_nucleotides = 4) :\n",
    "    \n",
    "    barcode = []\n",
    "    for i in range(length_barcode) :\n",
    "        barcode.append(np.random.choice(nucleotides[:n_nucleotides]))\n",
    "    barcode = ('').join(barcode)\n",
    "    barcodes.append(barcode)\n",
    "    \n",
    "\n",
    "def get_c1(barcodes) : \n",
    "    \n",
    "    n_neighbors = []\n",
    "    for i in range(len(barcodes)) :\n",
    "        is_neighbor = []\n",
    "        for j in range(len(barcodes)) :\n",
    "            if i != j :\n",
    "                is_neighbor.append(hammingDist(barcodes[i], barcodes[j]) <= 1)\n",
    "        n_neighbors.append(np.sum(is_neighbor))\n",
    "    c1 = np.sum((np.array(n_neighbors) >= 1))\n",
    "    \n",
    "    return c1"
   ]
  },
  {
   "cell_type": "code",
   "execution_count": 23,
   "metadata": {
    "ExecuteTime": {
     "end_time": "2021-11-01T15:55:56.458387Z",
     "start_time": "2021-11-01T15:34:47.039993Z"
    }
   },
   "outputs": [],
   "source": [
    "N = []\n",
    "\n",
    "for i in range(100):\n",
    "    barcodes = []\n",
    "    for i in range(3000):\n",
    "        generate_new_barcode(barcodes)\n",
    "\n",
    "#     N.append(np.sum([np.sum([hammingDist(cb1, cb2) == 1 for cb2 in barcodes]) >=1 for cb1 in barcodes]))\n",
    "    N.append(get_c1(barcodes))"
   ]
  },
  {
   "cell_type": "code",
   "execution_count": 9,
   "metadata": {
    "ExecuteTime": {
     "end_time": "2021-11-26T22:46:42.979920Z",
     "start_time": "2021-11-26T22:46:42.972222Z"
    }
   },
   "outputs": [
    {
     "data": {
      "text/plain": [
       "41.3060188293457"
      ]
     },
     "execution_count": 9,
     "metadata": {},
     "output_type": "execute_result"
    }
   ],
   "source": [
    "(77/4**12) * 3000**2"
   ]
  },
  {
   "cell_type": "code",
   "execution_count": 24,
   "metadata": {
    "ExecuteTime": {
     "end_time": "2021-11-01T16:59:41.043521Z",
     "start_time": "2021-11-01T16:59:40.742764Z"
    }
   },
   "outputs": [
    {
     "data": {
      "image/png": "[encoded data removed]",
      "text/plain": [
       "<Figure size 385x275 with 1 Axes>"
      ]
     },
     "metadata": {
      "needs_background": "light"
     },
     "output_type": "display_data"
    }
   ],
   "source": [
    "plt.subplots(figsize=(3.5,2.5))\n",
    "\n",
    "np.random.shuffle(N)\n",
    "\n",
    "t = calcul_expected_neighbors_binomal(length_barcode=12, n_nucleotides=4, n_trials=3000)\n",
    "x = np.arange(2, len(N)+1)\n",
    "y = np.cumsum(N)[1:]/np.arange(2, len(N)+1)\n",
    "plt.plot(x,y, marker='o', markersize = 1.5, color = 'black', zorder = 2, linewidth=0.4)\n",
    "plt.errorbar(x, y,yerr = [np.std(N[:i], ddof=1) / np.sqrt(i) for i in np.arange(2, len(N)+1)],\\\n",
    "             elinewidth = 0.2, capsize = 1, capthick = 0.4, color = \"gray\", linewidth=0, zorder = 1)\n",
    "plt.axhline(y = t, linestyle = ':', color = 'r', linewidth = 0.6, label = \"espérance théorique\", zorder = 3)\n",
    "plt.legend()\n",
    "plt.xlabel(\"Nombre de répétitions de la simulation\")\n",
    "plt.ylabel(\"Moyenne empirique +/- erreur type\");\n",
    "plt.savefig(\"./figs/simulation3.pdf\")"
   ]
  },
  {
   "cell_type": "code",
   "execution_count": 374,
   "metadata": {
    "ExecuteTime": {
     "end_time": "2021-08-17T20:14:35.650677Z",
     "start_time": "2021-08-17T20:14:35.644020Z"
    }
   },
   "outputs": [
    {
     "data": {
      "text/plain": [
       "19.243505511795654"
      ]
     },
     "execution_count": 374,
     "metadata": {},
     "output_type": "execute_result"
    }
   ],
   "source": [
    "t"
   ]
  },
  {
   "cell_type": "code",
   "execution_count": 217,
   "metadata": {
    "ExecuteTime": {
     "end_time": "2021-08-17T14:01:21.812171Z",
     "start_time": "2021-08-17T14:01:21.807389Z"
    }
   },
   "outputs": [],
   "source": [
    "np.random.shuffle(N)"
   ]
  },
  {
   "cell_type": "code",
   "execution_count": 241,
   "metadata": {
    "ExecuteTime": {
     "end_time": "2021-08-17T14:20:30.789081Z",
     "start_time": "2021-08-17T14:20:30.773529Z"
    }
   },
   "outputs": [
    {
     "data": {
      "text/plain": [
       "99"
      ]
     },
     "execution_count": 241,
     "metadata": {},
     "output_type": "execute_result"
    }
   ],
   "source": []
  },
  {
   "cell_type": "code",
   "execution_count": null,
   "metadata": {},
   "outputs": [],
   "source": []
  },
  {
   "cell_type": "code",
   "execution_count": 258,
   "metadata": {
    "ExecuteTime": {
     "end_time": "2021-08-17T14:27:21.361936Z",
     "start_time": "2021-08-17T14:27:21.355803Z"
    }
   },
   "outputs": [
    {
     "data": {
      "text/plain": [
       "125"
      ]
     },
     "execution_count": 258,
     "metadata": {},
     "output_type": "execute_result"
    }
   ],
   "source": [
    "5**3"
   ]
  },
  {
   "cell_type": "code",
   "execution_count": 263,
   "metadata": {
    "ExecuteTime": {
     "end_time": "2021-08-17T14:28:32.171116Z",
     "start_time": "2021-08-17T14:28:31.705601Z"
    }
   },
   "outputs": [],
   "source": [
    "C = []\n",
    "\n",
    "for i in range(1000):\n",
    "    barcodes = []\n",
    "    for i in range(10):\n",
    "        generate_new_barcode(barcodes, 5, 3)\n",
    "\n",
    "    C.append(np.sum([np.sum([hammingDist(cb1, cb2) == 1 for cb2 in barcodes]) >=1 for cb1 in barcodes]))"
   ]
  },
  {
   "cell_type": "code",
   "execution_count": 264,
   "metadata": {
    "ExecuteTime": {
     "end_time": "2021-08-17T14:28:33.400151Z",
     "start_time": "2021-08-17T14:28:33.393047Z"
    }
   },
   "outputs": [
    {
     "data": {
      "text/plain": [
       "3.235"
      ]
     },
     "execution_count": 264,
     "metadata": {},
     "output_type": "execute_result"
    }
   ],
   "source": [
    "np.mean(C)"
   ]
  },
  {
   "cell_type": "code",
   "execution_count": 261,
   "metadata": {
    "ExecuteTime": {
     "end_time": "2021-08-17T14:27:44.572601Z",
     "start_time": "2021-08-17T14:27:44.346506Z"
    }
   },
   "outputs": [
    {
     "data": {
      "image/png": "[encoded data removed]",
      "text/plain": [
       "<Figure size 432x288 with 1 Axes>"
      ]
     },
     "metadata": {
      "needs_background": "light"
     },
     "output_type": "display_data"
    }
   ],
   "source": [
    "plt.hist(C, bins = 100);"
   ]
  },
  {
   "cell_type": "code",
   "execution_count": 265,
   "metadata": {
    "ExecuteTime": {
     "end_time": "2021-08-17T14:28:35.238306Z",
     "start_time": "2021-08-17T14:28:35.056504Z"
    }
   },
   "outputs": [
    {
     "data": {
      "text/plain": [
       "<ErrorbarContainer object of 3 artists>"
      ]
     },
     "execution_count": 265,
     "metadata": {},
     "output_type": "execute_result"
    },
    {
     "data": {
      "image/png": "[encoded data removed]",
      "text/plain": [
       "<Figure size 432x288 with 1 Axes>"
      ]
     },
     "metadata": {
      "needs_background": "light"
     },
     "output_type": "display_data"
    }
   ],
   "source": [
    "plt.errorbar(np.arange(2, len(C)+1), np.cumsum(C)[1:]/np.arange(2, len(C)+1), yerr = [np.std(C[:i])/10 for i in np.arange(2, len(C)+1)])"
   ]
  },
  {
   "cell_type": "code",
   "execution_count": null,
   "metadata": {},
   "outputs": [],
   "source": []
  },
  {
   "cell_type": "code",
   "execution_count": 42,
   "metadata": {
    "ExecuteTime": {
     "end_time": "2021-10-19T12:33:20.952728Z",
     "start_time": "2021-10-19T12:33:20.945822Z"
    }
   },
   "outputs": [
    {
     "data": {
      "text/plain": [
       "912.8009333688925"
      ]
     },
     "execution_count": 42,
     "metadata": {},
     "output_type": "execute_result"
    }
   ],
   "source": [
    "calcul_expected_neighbors_binomal(8, 3, 1000)"
   ]
  },
  {
   "cell_type": "code",
   "execution_count": 204,
   "metadata": {
    "ExecuteTime": {
     "end_time": "2021-08-17T10:29:51.605759Z",
     "start_time": "2021-08-17T10:29:51.436324Z"
    }
   },
   "outputs": [
    {
     "data": {
      "text/plain": [
       "<matplotlib.legend.Legend at 0x7f9b030895c0>"
      ]
     },
     "execution_count": 204,
     "metadata": {},
     "output_type": "execute_result"
    },
    {
     "data": {
      "image/png": "[encoded data removed]",
      "text/plain": [
       "<Figure size 720x504 with 1 Axes>"
      ]
     },
     "metadata": {
      "needs_background": "light"
     },
     "output_type": "display_data"
    }
   ],
   "source": [
    "# length_barcode = 8\n",
    "# n_nucleotides = 3\n",
    "\n",
    "\n",
    "# emp = []\n",
    "# binom = []\n",
    "# comb = []\n",
    "# tot = n_nucleotides**length_barcode\n",
    "# trials = np.arange(math.ceil(tot/20), tot, math.ceil(tot/30))\n",
    "\n",
    "\n",
    "# for n_trials in trials:\n",
    "#     for i in range(100):\n",
    "#         barcodes = []\n",
    "#         X = []\n",
    "#         for i in range(n_trials):\n",
    "#             generate_new_barcode(barcodes, length_barcode, n_nucleotides)\n",
    "\n",
    "#         X.append(np.sum([np.sum([hammingDist(cb1, cb2) == 1 for cb2 in barcodes]) >=1 for cb1 in barcodes]))\n",
    "#     emp.append(np.mean(X))\n",
    "#     binom.append(calcul_expected_neighbors_binomal(length_barcode, n_nucleotides, n_trials))\n",
    "#     comb.append(calcul_expected_neighbors_approx(length_barcode, n_nucleotides, n_trials))\n",
    "\n",
    "\n",
    "plt.subplots(figsize=(10,7))\n",
    "plt.plot(trials[:81], emp, label = \"Empirical result\")\n",
    "plt.plot(trials[:81], binom, label = \"Binomial approch\")\n",
    "plt.plot(trials[:81], comb, label = \"Combinatorial approch (approximation)\")\n",
    "\n",
    "plt.title(f\"Expected number of neighboring cells\\n(sampling among {tot} cells)\")\n",
    "plt.xlabel(\"sample size\")\n",
    "plt.ylabel(\"# expected neighboring cells\")\n",
    "\n",
    "plt.legend()"
   ]
  }
 ],
 "metadata": {
  "kernelspec": {
   "display_name": "Python 3",
   "language": "python",
   "name": "python3"
  },
  "language_info": {
   "codemirror_mode": {
    "name": "ipython",
    "version": 3
   },
   "file_extension": ".py",
   "mimetype": "text/x-python",
   "name": "python",
   "nbconvert_exporter": "python",
   "pygments_lexer": "ipython3",
   "version": "3.9.5"
  },
  "toc": {
   "base_numbering": 1,
   "nav_menu": {},
   "number_sections": true,
   "sideBar": true,
   "skip_h1_title": false,
   "title_cell": "Table of Contents",
   "title_sidebar": "Contents",
   "toc_cell": false,
   "toc_position": {},
   "toc_section_display": true,
   "toc_window_display": false
  }
 },
 "nbformat": 4,
 "nbformat_minor": 4
}
