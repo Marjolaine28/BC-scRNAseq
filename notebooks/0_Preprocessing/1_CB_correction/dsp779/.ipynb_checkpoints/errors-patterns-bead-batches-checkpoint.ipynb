{
 "cells": [
  {
   "cell_type": "code",
   "execution_count": 2,
   "metadata": {
    "ExecuteTime": {
     "end_time": "2021-09-10T16:43:58.026192Z",
     "start_time": "2021-09-10T16:43:57.783575Z"
    }
   },
   "outputs": [
    {
     "data": {
      "application/javascript": [
       "IPython.notebook.set_autosave_interval(60000)"
      ]
     },
     "metadata": {},
     "output_type": "display_data"
    },
    {
     "name": "stdout",
     "output_type": "stream",
     "text": [
      "Autosaving every 60 seconds\n"
     ]
    }
   ],
   "source": [
    "%load_ext autoreload\n",
    "%autoreload 1\n",
    "%autosave 60"
   ]
  },
  {
   "cell_type": "code",
   "execution_count": 3,
   "metadata": {
    "ExecuteTime": {
     "end_time": "2021-11-11T11:02:26.614869Z",
     "start_time": "2021-11-11T11:01:53.705761Z"
    }
   },
   "outputs": [],
   "source": [
    "import sys\n",
    "import pandas as pd\n",
    "import numpy as np\n",
    "import importlib\n",
    "import matplotlib.pyplot as plt\n",
    "import matplotlib.colors as clr\n",
    "import seaborn as sb\n",
    "from scipy import stats\n",
    "from sklearn.decomposition import PCA\n",
    "import scanpy\n",
    "from anndata import AnnData\n",
    "import umap\n",
    "import anndata\n",
    "from matplotlib.colors import LogNorm\n",
    "from difflib import SequenceMatcher\n",
    "from adjustText import adjust_text\n",
    "import itertools\n",
    "from sklearn.mixture import GaussianMixture\n",
    "import matplotlib.scale as mscale\n",
    "import matplotlib.transforms as mtransforms\n",
    "import matplotlib.ticker as ticker\n",
    "from matplotlib import colors\n",
    "import ast\n",
    "import matplotlib.cm as cm \n",
    "from scipy.stats import norm\n",
    "import matplotlib.collections as mcoll"
   ]
  },
  {
   "cell_type": "code",
   "execution_count": 4,
   "metadata": {
    "ExecuteTime": {
     "end_time": "2021-11-11T11:02:26.624033Z",
     "start_time": "2021-11-11T11:02:26.618940Z"
    }
   },
   "outputs": [],
   "source": [
    "sys.path.append(\"/u/davidm/Documents/Master-thesis/Scripts/RNA-seq/python/\")"
   ]
  },
  {
   "cell_type": "code",
   "execution_count": 5,
   "metadata": {
    "ExecuteTime": {
     "end_time": "2021-11-11T11:02:28.256494Z",
     "start_time": "2021-11-11T11:02:26.626698Z"
    }
   },
   "outputs": [
    {
     "data": {
      "text/plain": [
       "<module 'rnaseq' from '/u/davidm/Documents/Master-thesis/Scripts/RNA-seq/python/rnaseq/__init__.py'>"
      ]
     },
     "execution_count": 5,
     "metadata": {},
     "output_type": "execute_result"
    }
   ],
   "source": [
    "import rnaseq\n",
    "importlib.reload(rnaseq)"
   ]
  },
  {
   "cell_type": "code",
   "execution_count": 13,
   "metadata": {
    "ExecuteTime": {
     "end_time": "2021-11-12T12:02:20.698752Z",
     "start_time": "2021-11-12T12:02:20.692393Z"
    }
   },
   "outputs": [],
   "source": [
    "def hammingDist(str1, str2, fillchar = '-'):\n",
    "    return sum([ch1 != ch2 for (ch1,ch2) in itertools.zip_longest(str1, str2, fillvalue = fillchar)])"
   ]
  },
  {
   "cell_type": "code",
   "execution_count": 14,
   "metadata": {
    "ExecuteTime": {
     "end_time": "2021-11-12T12:02:21.156921Z",
     "start_time": "2021-11-12T12:02:21.144641Z"
    }
   },
   "outputs": [],
   "source": [
    "def DFS(neighbors_mtx, component, barcode, visited):\n",
    "\n",
    "    visited[barcode] = True\n",
    "    component.append(barcode)\n",
    "    \n",
    "    neighbors = neighbors_mtx.index.values[neighbors_mtx[barcode] == 1]\n",
    "    for neighbor in neighbors :\n",
    "        if visited[neighbor][0] == False:\n",
    "            component = DFS(neighbors_mtx, component, neighbor, visited)\n",
    "    return component\n",
    "\n",
    "\n",
    "def connectedComponents(neighbors_mtx) :\n",
    "    \n",
    "    barcodes = neighbors_mtx.index.values\n",
    "    visited = pd.DataFrame([np.repeat(False, len(barcodes))], columns = barcodes, index = [\"visited\"])\n",
    "    all_components = []\n",
    "\n",
    "    for barcode in barcodes :\n",
    "        if visited[barcode][0] == False:\n",
    "            component = []\n",
    "            all_components.append(DFS(neighbors_mtx, component, barcode, visited))\n",
    "    \n",
    "    i = np.argsort([len(c) for c in all_components])[::-1]\n",
    "    \n",
    "    return np.array(all_components, dtype = object)[i]"
   ]
  },
  {
   "cell_type": "code",
   "execution_count": 42,
   "metadata": {
    "ExecuteTime": {
     "end_time": "2021-11-12T12:14:50.040158Z",
     "start_time": "2021-11-12T12:14:50.022143Z"
    }
   },
   "outputs": [],
   "source": [
    "def plot_errors_1(correction_dict, barcodes, weight_by_lib = True) :\n",
    "    nucleotides = [\"A\",\"T\",\"G\",\"C\"]\n",
    "    substitutions = {f\"{pos}{nt1}\": {nt2 : 0 for nt2 in nucleotides} for pos in np.arange(1,13) for nt1 in nucleotides}\n",
    "\n",
    "\n",
    "    for barcode1 in correction_dict.keys() :\n",
    "        for barcode2 in correction_dict[barcode1] :\n",
    "            if barcode2 not in barcodes :\n",
    "                continue\n",
    "            pos = [i for i in range(len(barcode1)) if barcode1[i] != barcode2[i]][0]\n",
    "            nt1 = list(barcode1)[pos]\n",
    "            nt2 = list(barcode2)[pos]\n",
    "            if weight_by_lib :\n",
    "                substitutions[f\"{pos+1}{nt1}\"][nt2] += sc.obs[\"raw_cb_freq\"].loc[barcode2]\n",
    "            else :\n",
    "                substitutions[f\"{pos+1}{nt1}\"][nt2] += 1\n",
    "    \n",
    "    counts = np.array([list(list(substitutions.values())[i].values()) for i in np.arange(48)])\n",
    "    fig, ax = plt.subplots(figsize=(5.5,2.5))\n",
    "    ax.set_prop_cycle('color', sb.color_palette(\"twilight_shifted\", 4))\n",
    "    bottom = 0\n",
    "    for c in counts.T :\n",
    "        ax.bar(np.arange(48), c, width = 0.7, bottom = bottom)\n",
    "        bottom += c\n",
    "\n",
    "    ax.legend(labels = nucleotides)\n",
    "    plt.xticks(np.arange(48), labels = substitutions.keys(), rotation = 90)\n",
    "    plt.ylim(0,np.max(bottom)+np.max(bottom)/30)\n",
    "    plt.xlim(-1.5,48.5)\n",
    "    plt.tight_layout()"
   ]
  },
  {
   "cell_type": "code",
   "execution_count": 32,
   "metadata": {
    "ExecuteTime": {
     "end_time": "2021-11-12T12:09:21.357822Z",
     "start_time": "2021-11-12T12:09:21.338399Z"
    }
   },
   "outputs": [],
   "source": [
    "def plot_errors(errors, libs, neighbors_mtx, weight_by_lib = True) :\n",
    "    \n",
    "    nucleotides = [\"A\",\"T\",\"G\",\"C\"]\n",
    "    substitutions = {f\"{pos}{nt1}\": {nt2 : 0 for nt2 in nucleotides} for pos in np.arange(1,13) for nt1 in nucleotides}\n",
    "              \n",
    "    for barcode2 in errors :\n",
    "        \n",
    "        neighbors = neighbors_mtx.index.values[neighbors_mtx[barcode2] == 1]\n",
    "        sorting_df = pd.DataFrame(np.array([libs.loc[neighbors].values.ravel()]).T, columns = [\"lib\"], index = neighbors)\n",
    "        sorted_comp = sorting_df.sort_values(by=[\"lib\"], ascending=False).index.values\n",
    "        barcode1 = sorted_comp[0]\n",
    "\n",
    "        pos = [i for i in range(len(barcode1)) if barcode1[i] != barcode2[i]][0]\n",
    "        nt1 = list(barcode1)[pos]\n",
    "        nt2 = list(barcode2)[pos]\n",
    "        if weight_by_lib :\n",
    "            substitutions[f\"{pos+1}{nt1}\"][nt2] += libs.loc[barcode2]\n",
    "        else :\n",
    "            substitutions[f\"{pos+1}{nt1}\"][nt2] += 1\n",
    "    \n",
    "    counts = np.array([list(list(substitutions.values())[i].values()) for i in np.arange(48)])\n",
    "    fig, ax = plt.subplots(figsize=(5.5,2.5))\n",
    "    ax.set_prop_cycle('color', sb.color_palette(\"twilight_shifted\", 4))\n",
    "    bottom = 0\n",
    "    for c in counts.T :\n",
    "        ax.bar(np.arange(48), c, width = 0.7, bottom = bottom)\n",
    "        bottom += c\n",
    "\n",
    "    ax.legend(labels = nucleotides)\n",
    "    plt.xticks(np.arange(48), labels = substitutions.keys(), rotation = 90)\n",
    "    plt.ylim(0,np.max(bottom)+np.max(bottom)/30)\n",
    "    plt.xlim(-1.5,48.5)\n",
    "    plt.tight_layout()"
   ]
  },
  {
   "cell_type": "code",
   "execution_count": 16,
   "metadata": {
    "ExecuteTime": {
     "end_time": "2021-11-12T12:02:28.347168Z",
     "start_time": "2021-11-12T12:02:28.339588Z"
    }
   },
   "outputs": [],
   "source": [
    "def get_intended_barcodes(errors_dict, barcodes) :\n",
    "    \n",
    "    intended_list = []\n",
    "    errors_list = []\n",
    "    for intended, erroneous in errors_dict.items(): \n",
    "        for barcode in erroneous :\n",
    "            if barcode in barcodes :\n",
    "                errors_list.append(barcode)\n",
    "                intended_list.append(intended)\n",
    "    \n",
    "    return np.array(intended_list), np.array(errors_list)"
   ]
  },
  {
   "cell_type": "code",
   "execution_count": 19,
   "metadata": {
    "ExecuteTime": {
     "end_time": "2021-11-12T12:03:27.241970Z",
     "start_time": "2021-11-12T12:03:27.227012Z"
    }
   },
   "outputs": [],
   "source": [
    "def get_whitelist(libs) :\n",
    "    \n",
    "    barcodes = libs.index\n",
    "    whitelist = []\n",
    "    errors = []\n",
    "    correction_dict = {}\n",
    "\n",
    "    neighbors_mtx = np.empty((len(barcodes), len(barcodes)))  \n",
    "    for i in range(len(neighbors_mtx)) :\n",
    "        barcode1 = sc.obs[\"CB\"].values[i]\n",
    "        neighbors_mtx[i] = [(hammingDist(barcode1, barcode2) == 1) for barcode2 in barcodes]\n",
    "    neighbors_mtx = pd.DataFrame(neighbors_mtx, columns = barcodes, index = barcodes, dtype=int)\n",
    "    \n",
    "    all_components = connectedComponents(neighbors_mtx)\n",
    "    \n",
    "    for component in all_components :\n",
    "                \n",
    "        if len(component) == 1 :\n",
    "            whitelist.append(component[0])\n",
    "        else :\n",
    "            sorting_df = pd.DataFrame(np.array([libs.loc[component].values.ravel()]).T, columns = [\"lib\"], index = component)\n",
    "            sorted_comp = sorting_df.sort_values(by=[\"lib\"], ascending=False).index.values\n",
    "            barcode = sorted_comp[0]\n",
    "            whitelist.append(barcode)\n",
    "            errors.append(sorted_comp[1:])\n",
    "            neighbors = neighbors_mtx.loc[barcode][sorted_comp]\n",
    "            neighbors = neighbors.index.values[neighbors == 1]\n",
    "            correction_dict[barcode] = neighbors\n",
    "\n",
    "    \n",
    "    return all_components, correction_dict, whitelist, np.concatenate(errors), neighbors_mtx"
   ]
  },
  {
   "cell_type": "markdown",
   "metadata": {},
   "source": [
    "### Plotting parameters"
   ]
  },
  {
   "cell_type": "code",
   "execution_count": 11,
   "metadata": {
    "ExecuteTime": {
     "end_time": "2021-09-10T16:44:41.728932Z",
     "start_time": "2021-09-10T16:44:41.714801Z"
    }
   },
   "outputs": [],
   "source": [
    "%matplotlib inline\n",
    "plt.rcParams['figure.dpi'] = 110\n",
    "plt.rcParams['font.size'] = 6"
   ]
  },
  {
   "cell_type": "markdown",
   "metadata": {},
   "source": [
    "### Alevin "
   ]
  },
  {
   "cell_type": "code",
   "execution_count": 141,
   "metadata": {
    "ExecuteTime": {
     "end_time": "2021-11-12T20:23:07.150211Z",
     "start_time": "2021-11-12T20:23:07.144497Z"
    }
   },
   "outputs": [],
   "source": [
    "sample = \"Sample_N702_-_CTR1\"\n",
    "quant_params = \"trimmed-reads-cutadapt/pc-decoys-k31-1.4.0/forceCells-3000-noWh\"\n",
    "genref = \"human/assembly__GRCh38-hg38/annotation__gencode/gencode_34\"\n",
    "project = \"dsp779\"\n",
    "prefix = f\"pyplot_{sample}\""
   ]
  },
  {
   "cell_type": "code",
   "execution_count": 142,
   "metadata": {
    "ExecuteTime": {
     "end_time": "2021-11-12T20:23:20.364945Z",
     "start_time": "2021-11-12T20:23:07.951603Z"
    }
   },
   "outputs": [
    {
     "name": "stdout",
     "output_type": "stream",
     "text": [
      "Using BioMart Ensembl Genes 100 hsapiens_gene_ensembl for gene annotations.\n",
      "Annotating total_UMIs...\n"
     ]
    }
   ],
   "source": [
    "sc = rnaseq.readwrite.read_raw(project_id  = project, quant_tool = \"alevin\", samples = sample, genes_id = \"ensembl_gene_id\", quant_params = quant_params, genref = genref, cdna = \"3' tag\", exp = \"sc\")\n",
    "sc._inplace_subset_obs(np.argsort(sc.obs[\"raw_cb_freq\"].values)[::-1][:3000])\n",
    "\n",
    "sc.obs_names = sc.obs[\"CB\"]\n",
    "\n",
    "rnaseq.setup.annotate_samples(sc, samples_annot_name = \"total_UMIs\", samples_annot = sc.X.toarray().sum(1).ravel(), ow=True)"
   ]
  },
  {
   "cell_type": "code",
   "execution_count": 143,
   "metadata": {
    "ExecuteTime": {
     "end_time": "2021-11-12T20:23:20.369868Z",
     "start_time": "2021-11-12T20:23:20.366384Z"
    }
   },
   "outputs": [
    {
     "data": {
      "text/plain": [
       "(3000, 20305)"
      ]
     },
     "execution_count": 143,
     "metadata": {},
     "output_type": "execute_result"
    }
   ],
   "source": [
    "sc.X.shape"
   ]
  },
  {
   "cell_type": "code",
   "execution_count": 144,
   "metadata": {
    "ExecuteTime": {
     "end_time": "2021-11-12T20:23:33.802504Z",
     "start_time": "2021-11-12T20:23:20.370936Z"
    },
    "scrolled": true
   },
   "outputs": [],
   "source": [
    "libs = sc.obs[\"raw_cb_freq\"]\n",
    "\n",
    "connected_components, correction_dict, whitelist, errors, neighbors_mtx = get_whitelist(libs)\n",
    "\n",
    "# print(f\"{len(whitelist)} barcodes in the new whitelist\")"
   ]
  },
  {
   "cell_type": "code",
   "execution_count": 145,
   "metadata": {
    "ExecuteTime": {
     "end_time": "2021-11-12T20:23:34.000445Z",
     "start_time": "2021-11-12T20:23:33.804255Z"
    }
   },
   "outputs": [
    {
     "data": {
      "image/png": "[encoded data removed]",
      "text/plain": [
       "<Figure size 252x180 with 1 Axes>"
      ]
     },
     "metadata": {
      "needs_background": "light"
     },
     "output_type": "display_data"
    }
   ],
   "source": [
    "plt.subplots(figsize=(3.5,2.5))\n",
    "\n",
    "plt.hist(sc.obs[\"DedupRate\"].loc[errors], bins = 70, color = \"white\", edgecolor = 'black', linewidth = 0.7, density=True);\n",
    "plt.xlabel(\"Deduplication rate\");\n",
    "plt.ylabel(\"densité\");"
   ]
  },
  {
   "cell_type": "code",
   "execution_count": 151,
   "metadata": {
    "ExecuteTime": {
     "end_time": "2021-11-12T20:24:35.738726Z",
     "start_time": "2021-11-12T20:24:35.048978Z"
    }
   },
   "outputs": [
    {
     "data": {
      "image/png": "[encoded data removed]",
      "text/plain": [
       "<Figure size 396x180 with 1 Axes>"
      ]
     },
     "metadata": {
      "needs_background": "light"
     },
     "output_type": "display_data"
    }
   ],
   "source": [
    "errors_seq = np.intersect1d(sc.obs.index[(sc.obs[\"DedupRate\"]<0.7).values],errors)\n",
    "\n",
    "plot_errors(errors_seq, libs, neighbors_mtx)\n",
    "plt.ylim(0,50000);\n",
    "# plt.savefig(f\"./figs/{prefix}_all_errors.pdf\")"
   ]
  },
  {
   "cell_type": "code",
   "execution_count": 28,
   "metadata": {
    "ExecuteTime": {
     "end_time": "2021-11-12T12:06:44.528456Z",
     "start_time": "2021-11-12T12:06:43.591134Z"
    }
   },
   "outputs": [
    {
     "data": {
      "image/png": "[encoded data removed]",
      "text/plain": [
       "<Figure size 396x180 with 1 Axes>"
      ]
     },
     "metadata": {
      "needs_background": "light"
     },
     "output_type": "display_data"
    }
   ],
   "source": [
    "plot_errors(correction_dict, sc.obs_names);\n",
    "plt.savefig(f\"./figs/{prefix}_all_errors.pdf\")"
   ]
  },
  {
   "cell_type": "code",
   "execution_count": null,
   "metadata": {},
   "outputs": [],
   "source": []
  },
  {
   "cell_type": "code",
   "execution_count": 36,
   "metadata": {
    "ExecuteTime": {
     "end_time": "2021-11-12T12:13:39.376189Z",
     "start_time": "2021-11-12T12:13:39.370195Z"
    }
   },
   "outputs": [],
   "source": [
    "sample = \"Sample_MCF7-labbo\"\n",
    "sample = \"Sample_MCF7-atcc\"\n",
    "\n",
    "quant_params = \"trimmed-reads-cutadapt/pc-decoys-k31-1.4.0/forceCells-3000-noWh\"\n",
    "genref = \"human/assembly__GRCh38-hg38/annotation__gencode/gencode_34\"\n",
    "project = \"dsp762\"\n",
    "prefix = f\"pyplot_{sample}\""
   ]
  },
  {
   "cell_type": "code",
   "execution_count": 37,
   "metadata": {
    "ExecuteTime": {
     "end_time": "2021-11-12T12:13:51.495570Z",
     "start_time": "2021-11-12T12:13:40.210526Z"
    }
   },
   "outputs": [
    {
     "name": "stdout",
     "output_type": "stream",
     "text": [
      "Using BioMart Ensembl Genes 100 hsapiens_gene_ensembl for gene annotations.\n",
      "Annotating total_UMIs...\n"
     ]
    }
   ],
   "source": [
    "sc = rnaseq.readwrite.read_raw(project_id  = project, quant_tool = \"alevin\", samples = sample, genes_id = \"ensembl_gene_id\", quant_params = quant_params, genref = genref, cdna = \"3' tag\", exp = \"sc\")\n",
    "sc._inplace_subset_obs(np.argsort(sc.obs[\"raw_cb_freq\"].values)[::-1][:3000])\n",
    "\n",
    "sc.obs_names = sc.obs[\"CB\"]\n",
    "\n",
    "rnaseq.setup.annotate_samples(sc, samples_annot_name = \"total_UMIs\", samples_annot = sc.X.toarray().sum(1).ravel(), ow=True)"
   ]
  },
  {
   "cell_type": "code",
   "execution_count": 38,
   "metadata": {
    "ExecuteTime": {
     "end_time": "2021-11-12T12:13:51.500697Z",
     "start_time": "2021-11-12T12:13:51.496957Z"
    }
   },
   "outputs": [
    {
     "data": {
      "text/plain": [
       "(3000, 20305)"
      ]
     },
     "execution_count": 38,
     "metadata": {},
     "output_type": "execute_result"
    }
   ],
   "source": [
    "sc.X.shape"
   ]
  },
  {
   "cell_type": "code",
   "execution_count": 40,
   "metadata": {
    "ExecuteTime": {
     "end_time": "2021-11-12T12:14:17.270047Z",
     "start_time": "2021-11-12T12:14:04.336183Z"
    }
   },
   "outputs": [
    {
     "name": "stdout",
     "output_type": "stream",
     "text": [
      "2215 barcodes in the new whitelist\n"
     ]
    }
   ],
   "source": [
    "libs = sc.obs[\"raw_cb_freq\"]\n",
    "\n",
    "connected_components, correction_dict, whitelist, errors, neighbors_mtx = get_whitelist(libs)\n",
    "\n",
    "print(f\"{len(whitelist)} barcodes in the new whitelist\")"
   ]
  },
  {
   "cell_type": "code",
   "execution_count": 44,
   "metadata": {
    "ExecuteTime": {
     "end_time": "2021-11-12T12:15:19.338569Z",
     "start_time": "2021-11-12T12:15:18.260449Z"
    }
   },
   "outputs": [
    {
     "data": {
      "image/png": "[encoded data removed]",
      "text/plain": [
       "<Figure size 396x180 with 1 Axes>"
      ]
     },
     "metadata": {
      "needs_background": "light"
     },
     "output_type": "display_data"
    }
   ],
   "source": [
    "plot_errors(errors, libs, neighbors_mtx);\n",
    "# plt.title(f\"{sample} ({project})\")\n",
    "# plt.savefig(f\"./figs/{prefix}_all_errors.pdf\")"
   ]
  },
  {
   "cell_type": "code",
   "execution_count": 43,
   "metadata": {
    "ExecuteTime": {
     "end_time": "2021-11-12T12:15:12.075047Z",
     "start_time": "2021-11-12T12:15:11.544607Z"
    }
   },
   "outputs": [
    {
     "data": {
      "image/png": "[encoded data removed]",
      "text/plain": [
       "<Figure size 396x180 with 1 Axes>"
      ]
     },
     "metadata": {
      "needs_background": "light"
     },
     "output_type": "display_data"
    }
   ],
   "source": [
    "plot_errors_1(correction_dict, sc.obs_names);\n",
    "# plt.title(f\"{sample} ({project})\")\n",
    "# plt.savefig(f\"./figs/{prefix}_all_errors.pdf\")"
   ]
  },
  {
   "cell_type": "code",
   "execution_count": 105,
   "metadata": {
    "ExecuteTime": {
     "end_time": "2021-09-13T23:04:39.314432Z",
     "start_time": "2021-09-13T23:04:38.329117Z"
    }
   },
   "outputs": [
    {
     "data": {
      "image/png": "[encoded data removed]",
      "text/plain": [
       "<Figure size 605x275 with 1 Axes>"
      ]
     },
     "metadata": {
      "needs_background": "light"
     },
     "output_type": "display_data"
    }
   ],
   "source": [
    "plot_errors(correction_dict, sc.obs_names);\n",
    "plt.title(f\"{sample} ({project})\")\n",
    "plt.savefig(f\"./figs/{prefix}_all_errors.pdf\")"
   ]
  },
  {
   "cell_type": "code",
   "execution_count": 110,
   "metadata": {
    "ExecuteTime": {
     "end_time": "2021-09-13T23:05:52.546041Z",
     "start_time": "2021-09-13T23:05:51.360686Z"
    }
   },
   "outputs": [
    {
     "data": {
      "image/png": "[encoded data removed]",
      "text/plain": [
       "<Figure size 605x275 with 1 Axes>"
      ]
     },
     "metadata": {
      "needs_background": "light"
     },
     "output_type": "display_data"
    }
   ],
   "source": [
    "plot_errors(correction_dict, sc.obs_names);\n",
    "plt.title(f\"{sample} ({project})\")\n",
    "plt.savefig(f\"./figs/{prefix}_all_errors.pdf\")"
   ]
  },
  {
   "cell_type": "code",
   "execution_count": 115,
   "metadata": {
    "ExecuteTime": {
     "end_time": "2021-09-13T23:06:43.058236Z",
     "start_time": "2021-09-13T23:06:42.052265Z"
    }
   },
   "outputs": [
    {
     "data": {
      "image/png": "[encoded data removed]",
      "text/plain": [
       "<Figure size 605x275 with 1 Axes>"
      ]
     },
     "metadata": {
      "needs_background": "light"
     },
     "output_type": "display_data"
    }
   ],
   "source": [
    "plot_errors(correction_dict, sc.obs_names);\n",
    "plt.title(f\"{sample} ({project})\")\n",
    "plt.savefig(f\"./figs/{prefix}_all_errors.pdf\")"
   ]
  },
  {
   "cell_type": "code",
   "execution_count": 52,
   "metadata": {
    "ExecuteTime": {
     "end_time": "2021-09-13T22:51:23.994421Z",
     "start_time": "2021-09-13T22:51:23.991446Z"
    }
   },
   "outputs": [
    {
     "data": {
      "text/plain": [
       "534"
      ]
     },
     "execution_count": 52,
     "metadata": {},
     "output_type": "execute_result"
    }
   ],
   "source": [
    "len(errors)"
   ]
  },
  {
   "cell_type": "code",
   "execution_count": null,
   "metadata": {},
   "outputs": [],
   "source": []
  },
  {
   "cell_type": "code",
   "execution_count": 109,
   "metadata": {
    "ExecuteTime": {
     "end_time": "2021-11-12T13:11:41.184953Z",
     "start_time": "2021-11-12T13:11:41.178726Z"
    }
   },
   "outputs": [],
   "source": [
    "sample = \"Sample_SKBR3_N712\"\n",
    "# sample = \"Sample_HCC70_N703\"\n",
    "# sample = \"Sample_BT20_N701\"\n",
    "# sample = \"Sample_EV_N707_NEWsample\"\n",
    "\n",
    "quant_params = \"trimmed-reads-cutadapt/pc-decoys-k31-1.4.0/forceCells-3000-noWh\"\n",
    "# quant_params = \"trimmed-reads-cutadapt/pc-EGFP-decoys-k31-1.4.0/forceCells-3000-noWh\"\n",
    "\n",
    "genref = \"human/assembly__GRCh38-hg38/annotation__gencode/gencode_34\"\n",
    "project = \"dsp992\"\n",
    "# project = \"dsp1090\"\n",
    "prefix = f\"pyplot_{sample}\""
   ]
  },
  {
   "cell_type": "code",
   "execution_count": 110,
   "metadata": {
    "ExecuteTime": {
     "end_time": "2021-11-12T13:11:55.225796Z",
     "start_time": "2021-11-12T13:11:41.880319Z"
    }
   },
   "outputs": [
    {
     "name": "stdout",
     "output_type": "stream",
     "text": [
      "Using BioMart Ensembl Genes 100 hsapiens_gene_ensembl for gene annotations.\n",
      "Annotating total_UMIs...\n"
     ]
    }
   ],
   "source": [
    "sc = rnaseq.readwrite.read_raw(project_id  = project, quant_tool = \"alevin\", samples = sample, genes_id = \"ensembl_gene_id\", quant_params = quant_params, genref = genref, cdna = \"3' tag\", exp = \"sc\")\n",
    "sc._inplace_subset_obs(np.argsort(sc.obs[\"raw_cb_freq\"].values)[::-1][:3000])\n",
    "\n",
    "sc.obs_names = sc.obs[\"CB\"]\n",
    "\n",
    "rnaseq.setup.annotate_samples(sc, samples_annot_name = \"total_UMIs\", samples_annot = sc.X.toarray().sum(1).ravel(), ow=True)"
   ]
  },
  {
   "cell_type": "code",
   "execution_count": 111,
   "metadata": {
    "ExecuteTime": {
     "end_time": "2021-11-12T13:11:55.231900Z",
     "start_time": "2021-11-12T13:11:55.227265Z"
    }
   },
   "outputs": [
    {
     "data": {
      "text/plain": [
       "(3000, 20305)"
      ]
     },
     "execution_count": 111,
     "metadata": {},
     "output_type": "execute_result"
    }
   ],
   "source": [
    "sc.X.shape"
   ]
  },
  {
   "cell_type": "code",
   "execution_count": 112,
   "metadata": {
    "ExecuteTime": {
     "end_time": "2021-11-12T13:12:07.799954Z",
     "start_time": "2021-11-12T13:11:55.234329Z"
    }
   },
   "outputs": [
    {
     "name": "stdout",
     "output_type": "stream",
     "text": [
      "2665 barcodes in the new whitelist\n"
     ]
    }
   ],
   "source": [
    "libs = sc.obs[\"raw_cb_freq\"]\n",
    "\n",
    "connected_components, correction_dict, whitelist, errors, neighbors_mtx = get_whitelist(libs)\n",
    "\n",
    "print(f\"{len(whitelist)} barcodes in the new whitelist\")"
   ]
  },
  {
   "cell_type": "code",
   "execution_count": 113,
   "metadata": {
    "ExecuteTime": {
     "end_time": "2021-11-12T13:12:07.955318Z",
     "start_time": "2021-11-12T13:12:07.801447Z"
    }
   },
   "outputs": [
    {
     "data": {
      "image/png": "[encoded data removed]",
      "text/plain": [
       "<Figure size 252x180 with 1 Axes>"
      ]
     },
     "metadata": {
      "needs_background": "light"
     },
     "output_type": "display_data"
    }
   ],
   "source": [
    "plt.subplots(figsize=(3.5,2.5))\n",
    "\n",
    "plt.hist(sc.obs[\"DedupRate\"].loc[errors], bins = 70, color = \"white\", edgecolor = 'black', linewidth = 0.7, density=True);\n",
    "plt.xlabel(\"Deduplication rate\");\n",
    "plt.ylabel(\"densité\");"
   ]
  },
  {
   "cell_type": "code",
   "execution_count": 114,
   "metadata": {
    "ExecuteTime": {
     "end_time": "2021-11-12T13:12:08.497476Z",
     "start_time": "2021-11-12T13:12:07.956379Z"
    }
   },
   "outputs": [
    {
     "data": {
      "image/png": "[encoded data removed]",
      "text/plain": [
       "<Figure size 396x180 with 1 Axes>"
      ]
     },
     "metadata": {
      "needs_background": "light"
     },
     "output_type": "display_data"
    }
   ],
   "source": [
    "errors_seq = np.intersect1d(sc.obs.index[(sc.obs[\"DedupRate\"]<0.3).values],errors)\n",
    "\n",
    "plot_errors(errors_seq, libs, neighbors_mtx);\n",
    "# plt.title(f\"{sample} ({project})\")\n",
    "# plt.savefig(f\"./figs/{prefix}_all_errors.pdf\")"
   ]
  },
  {
   "cell_type": "code",
   "execution_count": 108,
   "metadata": {
    "ExecuteTime": {
     "end_time": "2021-11-12T13:11:12.600670Z",
     "start_time": "2021-11-12T13:11:11.971574Z"
    }
   },
   "outputs": [
    {
     "data": {
      "image/png": "[encoded data removed]",
      "text/plain": [
       "<Figure size 396x180 with 1 Axes>"
      ]
     },
     "metadata": {
      "needs_background": "light"
     },
     "output_type": "display_data"
    }
   ],
   "source": [
    "plot_errors(errors, libs, neighbors_mtx);\n",
    "# plt.title(f\"{sample} ({project})\")\n",
    "# plt.savefig(f\"./figs/{prefix}_all_errors.pdf\")"
   ]
  },
  {
   "cell_type": "code",
   "execution_count": 100,
   "metadata": {
    "ExecuteTime": {
     "end_time": "2021-09-13T23:02:19.217373Z",
     "start_time": "2021-09-13T23:02:18.017778Z"
    }
   },
   "outputs": [
    {
     "data": {
      "image/png": "[encoded data removed]",
      "text/plain": [
       "<Figure size 605x275 with 1 Axes>"
      ]
     },
     "metadata": {
      "needs_background": "light"
     },
     "output_type": "display_data"
    }
   ],
   "source": [
    "plot_errors_1(correction_dict, sc.obs_names);\n",
    "# plt.title(f\"{sample} ({project})\")\n",
    "# plt.savefig(f\"./figs/{prefix}_all_errors.pdf\")"
   ]
  },
  {
   "cell_type": "code",
   "execution_count": 120,
   "metadata": {
    "ExecuteTime": {
     "end_time": "2021-09-13T23:08:32.097012Z",
     "start_time": "2021-09-13T23:08:30.927978Z"
    }
   },
   "outputs": [
    {
     "data": {
      "image/png": "[encoded data removed]",
      "text/plain": [
       "<Figure size 605x275 with 1 Axes>"
      ]
     },
     "metadata": {
      "needs_background": "light"
     },
     "output_type": "display_data"
    }
   ],
   "source": [
    "plot_errors(correction_dict, sc.obs_names);\n",
    "plt.title(f\"{sample} ({project})\")\n",
    "plt.savefig(f\"./figs/{prefix}_all_errors.pdf\")"
   ]
  },
  {
   "cell_type": "code",
   "execution_count": 124,
   "metadata": {
    "ExecuteTime": {
     "end_time": "2021-09-13T23:12:24.961338Z",
     "start_time": "2021-09-13T23:12:23.951028Z"
    }
   },
   "outputs": [
    {
     "data": {
      "image/png": "[encoded data removed]",
      "text/plain": [
       "<Figure size 605x275 with 1 Axes>"
      ]
     },
     "metadata": {
      "needs_background": "light"
     },
     "output_type": "display_data"
    }
   ],
   "source": [
    "plot_errors(correction_dict, sc.obs_names);\n",
    "plt.title(f\"{sample} ({project})\")\n",
    "plt.savefig(f\"./figs/{prefix}_all_errors.pdf\")"
   ]
  },
  {
   "cell_type": "code",
   "execution_count": 95,
   "metadata": {
    "ExecuteTime": {
     "end_time": "2021-09-13T23:01:19.588752Z",
     "start_time": "2021-09-13T23:01:19.581353Z"
    }
   },
   "outputs": [
    {
     "data": {
      "text/plain": [
       "191"
      ]
     },
     "execution_count": 95,
     "metadata": {},
     "output_type": "execute_result"
    }
   ],
   "source": [
    "len(errors)"
   ]
  }
 ],
 "metadata": {
  "kernelspec": {
   "display_name": "Python 3",
   "language": "python",
   "name": "python3"
  },
  "language_info": {
   "codemirror_mode": {
    "name": "ipython",
    "version": 3
   },
   "file_extension": ".py",
   "mimetype": "text/x-python",
   "name": "python",
   "nbconvert_exporter": "python",
   "pygments_lexer": "ipython3",
   "version": "3.9.5"
  },
  "toc": {
   "base_numbering": 1,
   "nav_menu": {},
   "number_sections": true,
   "sideBar": true,
   "skip_h1_title": false,
   "title_cell": "Table of Contents",
   "title_sidebar": "Contents",
   "toc_cell": false,
   "toc_position": {},
   "toc_section_display": true,
   "toc_window_display": true
  }
 },
 "nbformat": 4,
 "nbformat_minor": 4
}
