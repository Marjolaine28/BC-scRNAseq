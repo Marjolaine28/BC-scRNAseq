{
 "cells": [
  {
   "cell_type": "code",
   "execution_count": 5,
   "id": "34786752",
   "metadata": {
    "ExecuteTime": {
     "end_time": "2021-12-12T15:15:44.863122Z",
     "start_time": "2021-12-12T15:15:37.157191Z"
    }
   },
   "outputs": [],
   "source": [
    "import pandas as pd\n",
    "import matplotlib.pyplot as plt\n",
    "import sys\n",
    "import numpy as np\n",
    "import importlib\n",
    "import math"
   ]
  },
  {
   "cell_type": "code",
   "execution_count": 50,
   "id": "5656223e",
   "metadata": {
    "ExecuteTime": {
     "end_time": "2021-11-10T11:18:10.739939Z",
     "start_time": "2021-11-10T11:18:10.734713Z"
    }
   },
   "outputs": [],
   "source": [
    "sys.path.append(\"/u/davidm/Documents/Master-thesis/Scripts/RNA-seq/python/\")"
   ]
  },
  {
   "cell_type": "code",
   "execution_count": 53,
   "id": "791536a8",
   "metadata": {
    "ExecuteTime": {
     "end_time": "2021-11-10T11:18:27.910876Z",
     "start_time": "2021-11-10T11:18:27.898747Z"
    }
   },
   "outputs": [
    {
     "data": {
      "text/plain": [
       "<module 'rnaseq' from '/u/davidm/Documents/Master-thesis/Scripts/RNA-seq/python/rnaseq/__init__.py'>"
      ]
     },
     "execution_count": 53,
     "metadata": {},
     "output_type": "execute_result"
    }
   ],
   "source": [
    "import rnaseq\n",
    "importlib.reload(rnaseq)"
   ]
  },
  {
   "cell_type": "markdown",
   "id": "17e29707",
   "metadata": {},
   "source": [
    "## Knee visualizations (example with BT20) "
   ]
  },
  {
   "cell_type": "code",
   "execution_count": 100,
   "id": "9f9e1797",
   "metadata": {
    "ExecuteTime": {
     "end_time": "2021-11-12T10:15:49.906908Z",
     "start_time": "2021-11-12T10:15:49.901090Z"
    }
   },
   "outputs": [],
   "source": [
    "sample = \"Sample_BT20_N701\"\n",
    "quant_params = \"trimmed-reads-cutadapt/pc-decoys-k31-1.4.0/forceCells-3000-noWh\"\n",
    "genref = \"human/assembly__GRCh38-hg38/annotation__gencode/gencode_34\"\n",
    "project = \"dsp992\"\n",
    "prefix = f\"pyplot_{sample}\""
   ]
  },
  {
   "cell_type": "code",
   "execution_count": 199,
   "id": "f3851568",
   "metadata": {
    "ExecuteTime": {
     "end_time": "2021-12-09T19:08:40.473385Z",
     "start_time": "2021-12-09T19:08:38.404030Z"
    }
   },
   "outputs": [],
   "source": [
    "f = pd.read_csv(f\"/home/arion/davidm/Data/datasets/raw/private/RNA-seq/sc/dsp992/quant/alevin/{genref}/{quant_params}/{sample}/alevin/raw_cb_frequency.txt\", delimiter='\\t', header = None)"
   ]
  },
  {
   "cell_type": "code",
   "execution_count": 102,
   "id": "7821fe6a",
   "metadata": {
    "ExecuteTime": {
     "end_time": "2021-11-12T10:15:53.162444Z",
     "start_time": "2021-11-12T10:15:52.518590Z"
    }
   },
   "outputs": [
    {
     "data": {
      "image/png": "[encoded data removed]",
      "text/plain": [
       "<Figure size 252x180 with 1 Axes>"
      ]
     },
     "metadata": {
      "needs_background": "light"
     },
     "output_type": "display_data"
    }
   ],
   "source": [
    "plt.subplots(figsize=(3.5,2.5))\n",
    "plt.plot(f[1].values[f[1].values>50], c = 'black', linewidth = 0.7)\n",
    "plt.yscale(\"log\");\n",
    "plt.xscale(\"log\");\n",
    "plt.axvline(1200, color='red',linewidth=0.5)\n",
    "plt.xlabel(\"Rang du CB\")\n",
    "plt.ylabel(\"Nombre de reads\")\n",
    "plt.savefig(f\"./figs/{prefix}_knee_rank.pdf\")"
   ]
  },
  {
   "cell_type": "code",
   "execution_count": 92,
   "id": "1386be6c",
   "metadata": {
    "ExecuteTime": {
     "end_time": "2021-11-10T11:31:07.648211Z",
     "start_time": "2021-11-10T11:31:07.489452Z"
    }
   },
   "outputs": [
    {
     "data": {
      "image/png": "[encoded data removed]",
      "text/plain": [
       "<Figure size 252x180 with 1 Axes>"
      ]
     },
     "metadata": {
      "needs_background": "light"
     },
     "output_type": "display_data"
    }
   ],
   "source": [
    "plt.subplots(figsize=(3.5,2.5))\n",
    "plt.xlim(-500,10000)\n",
    "plt.plot(np.cumsum(f[1].values[f[1].values>50]), c = 'black', linewidth = 0.7)\n",
    "plt.axvline(1200, color='red', linewidth=0.5)\n",
    "plt.xlabel(\"Rang du CB\")\n",
    "plt.ylabel(\"Somme cumulée du nombre de reads\")\n",
    "plt.savefig(f\"./figs/{prefix}_knee_cumsum.pdf\")"
   ]
  },
  {
   "cell_type": "code",
   "execution_count": 93,
   "id": "4ca6b37f",
   "metadata": {
    "ExecuteTime": {
     "end_time": "2021-11-10T11:31:22.611360Z",
     "start_time": "2021-11-10T11:31:22.053409Z"
    }
   },
   "outputs": [
    {
     "data": {
      "image/png": "[encoded data removed]",
      "text/plain": [
       "<Figure size 252x180 with 1 Axes>"
      ]
     },
     "metadata": {
      "needs_background": "light"
     },
     "output_type": "display_data"
    }
   ],
   "source": [
    "_,ax = plt.subplots(figsize=(3.5,2.5))\n",
    "plt.axvline(f[1][1200], color='red',linewidth=0.5)\n",
    "rnaseq.plotting.loghist(f[1].values[f[1].values>50], bins=120, ax=ax, fc=(0,0.5,0,0.1), edgecolor=\"black\", linewidth=0.1)\n",
    "plt.xlabel(\"Nombre de reads\")\n",
    "plt.ylabel(\"Fréquence\")\n",
    "plt.savefig(f\"./figs/{prefix}_knee_dist.pdf\");"
   ]
  },
  {
   "cell_type": "markdown",
   "id": "26fe3545",
   "metadata": {},
   "source": [
    "## Double Poisson calculus to estimate the number of cells"
   ]
  },
  {
   "cell_type": "code",
   "execution_count": 2,
   "id": "bb7c9480",
   "metadata": {
    "ExecuteTime": {
     "end_time": "2021-12-12T15:15:23.979744Z",
     "start_time": "2021-12-12T15:15:23.972325Z"
    }
   },
   "outputs": [],
   "source": [
    "def poisson(c,b, nc,nb,nd):\n",
    "    pc = 1 if c==\"any\" else ((nc/nd)**c)*np.exp(-nc/nd)/math.factorial(c)\n",
    "    pb = 1 if b==\"any\" else ((nb/nd)**b)*np.exp(-nb/nd)/math.factorial(b)\n",
    "    return pc * pb"
   ]
  },
  {
   "cell_type": "code",
   "execution_count": 176,
   "id": "1538a1aa",
   "metadata": {
    "ExecuteTime": {
     "end_time": "2021-12-09T18:34:01.508080Z",
     "start_time": "2021-12-09T18:34:01.502582Z"
    }
   },
   "outputs": [],
   "source": [
    "# Concentrations Drop-Seq paper\n",
    "\n",
    "nd = 4 * 2 * 1e6 # number of droplets\n",
    "nc = 4 * 100000 # number of cells\n",
    "nb = 4 * 120000 # number of beads"
   ]
  },
  {
   "cell_type": "code",
   "execution_count": 16,
   "id": "c2af6207",
   "metadata": {
    "ExecuteTime": {
     "end_time": "2021-12-12T15:17:45.073411Z",
     "start_time": "2021-12-12T15:17:45.068334Z"
    }
   },
   "outputs": [],
   "source": [
    "# Concentrations lab experiments\n",
    "\n",
    "nd = 1.2 * 2 * 1e6 # number of droplets\n",
    "nc = 1.2 * 120000 # number of cells\n",
    "nb = 1.2 * 120000 # number of beads"
   ]
  },
  {
   "cell_type": "code",
   "execution_count": 201,
   "id": "817213ab",
   "metadata": {
    "ExecuteTime": {
     "end_time": "2021-12-09T19:09:23.393150Z",
     "start_time": "2021-12-09T19:09:23.385712Z"
    }
   },
   "outputs": [
    {
     "data": {
      "text/plain": [
       "2108273"
      ]
     },
     "execution_count": 201,
     "metadata": {},
     "output_type": "execute_result"
    }
   ],
   "source": [
    "len(f) # Number of unique cell barcodes in read 1 file"
   ]
  },
  {
   "cell_type": "markdown",
   "id": "a12045d1",
   "metadata": {
    "heading_collapsed": true
   },
   "source": [
    "### Some statistics"
   ]
  },
  {
   "cell_type": "markdown",
   "id": "a3099bdc",
   "metadata": {
    "hidden": true
   },
   "source": [
    "#### Empty droplets (no cell but at least one bead)"
   ]
  },
  {
   "cell_type": "code",
   "execution_count": 164,
   "id": "a6f57ef9",
   "metadata": {
    "ExecuteTime": {
     "end_time": "2021-12-09T18:10:52.559077Z",
     "start_time": "2021-12-09T18:10:52.549117Z"
    },
    "hidden": true
   },
   "outputs": [
    {
     "data": {
      "text/plain": [
       "131625.8324810187"
      ]
     },
     "execution_count": 164,
     "metadata": {},
     "output_type": "execute_result"
    }
   ],
   "source": [
    "(poisson(c=0, b=\"any\", nc=nc, nb = nb, nd = nd) - poisson(c=0, b=0, nc=nc, nb = nb, nd = nd))*nd"
   ]
  },
  {
   "cell_type": "code",
   "execution_count": 193,
   "id": "48413f5c",
   "metadata": {
    "ExecuteTime": {
     "end_time": "2021-12-09T19:05:53.128312Z",
     "start_time": "2021-12-09T19:05:53.118514Z"
    },
    "hidden": true
   },
   "outputs": [
    {
     "data": {
      "text/plain": [
       "52650.332992407486"
      ]
     },
     "execution_count": 193,
     "metadata": {},
     "output_type": "execute_result"
    }
   ],
   "source": [
    "(poisson(c=0, b=\"any\", nc=nc, nb = nb, nd = nd) - poisson(c=0, b=0, nc=nc, nb = nb, nd = nd))*nd * 0.4 # after washing the beads only get 20-40% "
   ]
  },
  {
   "cell_type": "markdown",
   "id": "18a4af12",
   "metadata": {
    "hidden": true
   },
   "source": [
    "##### Most of empty droplets contain 1 or 2 beads"
   ]
  },
  {
   "cell_type": "code",
   "execution_count": 203,
   "id": "ef82a38e",
   "metadata": {
    "ExecuteTime": {
     "end_time": "2021-12-09T19:11:14.334488Z",
     "start_time": "2021-12-09T19:11:14.325241Z"
    },
    "hidden": true
   },
   "outputs": [
    {
     "data": {
      "text/plain": [
       "52619.215669555524"
      ]
     },
     "execution_count": 203,
     "metadata": {},
     "output_type": "execute_result"
    }
   ],
   "source": [
    "(poisson(c=0, b=1, nc=nc, nb = nb, nd = nd) + \n",
    "poisson(c=0, b=2, nc=nc, nb = nb, nd = nd)) * nd * 0.4"
   ]
  },
  {
   "cell_type": "markdown",
   "id": "f4855c8a",
   "metadata": {
    "hidden": true
   },
   "source": [
    "##### Empty barcodes"
   ]
  },
  {
   "cell_type": "code",
   "execution_count": 226,
   "id": "3697b4f0",
   "metadata": {
    "ExecuteTime": {
     "end_time": "2021-12-09T20:01:14.820301Z",
     "start_time": "2021-12-09T20:01:14.812253Z"
    },
    "hidden": true
   },
   "outputs": [
    {
     "name": "stdout",
     "output_type": "stream",
     "text": [
      "54151.81418420277\n"
     ]
    }
   ],
   "source": [
    "# empty droplets contain 1 or 2 beads most of the time ; after washing only get 20-40% \n",
    "\n",
    "e = (poisson(c=0, b=1, nc=nc, nb = nb, nd = nd) + \n",
    "poisson(c=0, b=2, nc=nc, nb = nb, nd = nd) * 2) * nd * 0.4\n",
    "\n",
    "print(e)"
   ]
  },
  {
   "cell_type": "code",
   "execution_count": 227,
   "id": "05c54a22",
   "metadata": {
    "ExecuteTime": {
     "end_time": "2021-12-09T20:01:29.553243Z",
     "start_time": "2021-12-09T20:01:29.546317Z"
    },
    "hidden": true
   },
   "outputs": [
    {
     "data": {
      "text/plain": [
       "52000.0"
      ]
     },
     "execution_count": 227,
     "metadata": {},
     "output_type": "execute_result"
    }
   ],
   "source": [
    "130000*0.4"
   ]
  },
  {
   "cell_type": "markdown",
   "id": "d03ae175",
   "metadata": {
    "heading_collapsed": true,
    "hidden": true
   },
   "source": [
    "#### Number of droplets containing a least one bead and one cell"
   ]
  },
  {
   "cell_type": "code",
   "execution_count": 179,
   "id": "1bc0d850",
   "metadata": {
    "ExecuteTime": {
     "end_time": "2021-12-09T18:35:06.853786Z",
     "start_time": "2021-12-09T18:35:06.843453Z"
    },
    "hidden": true
   },
   "outputs": [
    {
     "data": {
      "text/plain": [
       "8139.286916784361"
      ]
     },
     "execution_count": 179,
     "metadata": {},
     "output_type": "execute_result"
    }
   ],
   "source": [
    "(1 - (poisson(c=0, b=\"any\", nc=nc, nb = nb, nd = nd) +\\\n",
    "     poisson(c='any', b=0, nc=nc, nb = nb, nd = nd) -\\\n",
    "     poisson(c=0, b=0, nc=nc, nb = nb, nd = nd))) * nd"
   ]
  },
  {
   "cell_type": "code",
   "execution_count": 214,
   "id": "eca13120",
   "metadata": {
    "ExecuteTime": {
     "end_time": "2021-12-09T19:21:56.817553Z",
     "start_time": "2021-12-09T19:21:56.803735Z"
    },
    "hidden": true
   },
   "outputs": [
    {
     "name": "stdout",
     "output_type": "stream",
     "text": [
      "3255.7147667137447\n"
     ]
    }
   ],
   "source": [
    "# after washing the beads only get 20-40% \n",
    "\n",
    "bc = (1 - (poisson(c=0, b=\"any\", nc=nc, nb = nb, nd = nd) +\\\n",
    "     poisson(c='any', b=0, nc=nc, nb = nb, nd = nd) -\\\n",
    "     poisson(c=0, b=0, nc=nc, nb = nb, nd = nd))) * nd * 0.4 \n",
    "\n",
    "print(bc)"
   ]
  },
  {
   "cell_type": "markdown",
   "id": "fb3512ff",
   "metadata": {
    "hidden": true
   },
   "source": [
    "#### More than one bead and one cell"
   ]
  },
  {
   "cell_type": "code",
   "execution_count": 168,
   "id": "084dcda4",
   "metadata": {
    "ExecuteTime": {
     "end_time": "2021-12-09T18:25:07.271157Z",
     "start_time": "2021-12-09T18:25:07.259779Z"
    },
    "hidden": true
   },
   "outputs": [
    {
     "data": {
      "text/plain": [
       "476.2943435481226"
      ]
     },
     "execution_count": 168,
     "metadata": {},
     "output_type": "execute_result"
    }
   ],
   "source": [
    "(1 - (poisson(c=1, b=1, nc=nc, nb = nb, nd = nd) +\\\n",
    "     poisson(c=\"any\", b=0, nc=nc, nb = nb, nd = nd)+\\\n",
    "     poisson(c=0, b=\"any\", nc=nc, nb = nb, nd = nd) -\\\n",
    "     poisson(c=0, b=0, nc=nc, nb = nb, nd = nd))) * nd"
   ]
  },
  {
   "cell_type": "code",
   "execution_count": 235,
   "id": "cf9f107d",
   "metadata": {
    "ExecuteTime": {
     "end_time": "2021-12-09T20:36:00.027448Z",
     "start_time": "2021-12-09T20:36:00.018243Z"
    },
    "hidden": true
   },
   "outputs": [
    {
     "data": {
      "text/plain": [
       "459.77955439417445"
      ]
     },
     "execution_count": 235,
     "metadata": {},
     "output_type": "execute_result"
    }
   ],
   "source": [
    "(poisson(c=1, b=2, nc=nc, nb = nb, nd = nd) +\\\n",
    "     poisson(c=2, b=1, nc=nc, nb = nb, nd = nd)) * nd "
   ]
  },
  {
   "cell_type": "markdown",
   "id": "d0819b57",
   "metadata": {},
   "source": [
    "### Good barcodes vs doublet expectations"
   ]
  },
  {
   "cell_type": "markdown",
   "id": "54590853",
   "metadata": {},
   "source": [
    "#### Exactly one bead and one cell"
   ]
  },
  {
   "cell_type": "code",
   "execution_count": 212,
   "id": "718d4ce9",
   "metadata": {
    "ExecuteTime": {
     "end_time": "2021-12-09T19:20:29.322916Z",
     "start_time": "2021-12-09T19:20:29.314817Z"
    }
   },
   "outputs": [
    {
     "data": {
      "text/plain": [
       "7662.99257323624"
      ]
     },
     "execution_count": 212,
     "metadata": {},
     "output_type": "execute_result"
    }
   ],
   "source": [
    "poisson(c=1, b=1, nc=nc, nb = nb, nd = nd) * nd"
   ]
  },
  {
   "cell_type": "code",
   "execution_count": 18,
   "id": "5f045798",
   "metadata": {
    "ExecuteTime": {
     "end_time": "2021-12-12T15:17:55.829942Z",
     "start_time": "2021-12-12T15:17:55.823428Z"
    }
   },
   "outputs": [
    {
     "name": "stdout",
     "output_type": "stream",
     "text": [
      "1532.598514647248\n"
     ]
    }
   ],
   "source": [
    "good_bc = poisson(c=1, b=1, nc=nc, nb = nb, nd = nd) * nd * 0.2\n",
    "print(good_bc)"
   ]
  },
  {
   "cell_type": "code",
   "execution_count": 17,
   "id": "72be8be2",
   "metadata": {
    "ExecuteTime": {
     "end_time": "2021-12-12T15:17:48.791308Z",
     "start_time": "2021-12-12T15:17:48.784774Z"
    }
   },
   "outputs": [
    {
     "name": "stdout",
     "output_type": "stream",
     "text": [
      "3065.197029294496\n"
     ]
    }
   ],
   "source": [
    "good_bc = poisson(c=1, b=1, nc=nc, nb = nb, nd = nd) * nd * 0.4\n",
    "print(good_bc)"
   ]
  },
  {
   "cell_type": "code",
   "execution_count": 19,
   "id": "797bcc73",
   "metadata": {
    "ExecuteTime": {
     "end_time": "2021-12-12T15:18:03.900886Z",
     "start_time": "2021-12-12T15:18:03.894142Z"
    }
   },
   "outputs": [
    {
     "name": "stdout",
     "output_type": "stream",
     "text": [
      "874.4542269557877\n"
     ]
    }
   ],
   "source": [
    "nc=80000\n",
    "good_bc = poisson(c=1, b=1, nc=nc, nb = nb, nd = nd) * nd * 0.2\n",
    "print(good_bc)"
   ]
  },
  {
   "cell_type": "code",
   "execution_count": 20,
   "id": "ed28eca2",
   "metadata": {
    "ExecuteTime": {
     "end_time": "2021-12-12T15:18:04.612539Z",
     "start_time": "2021-12-12T15:18:04.605982Z"
    }
   },
   "outputs": [
    {
     "name": "stdout",
     "output_type": "stream",
     "text": [
      "1748.9084539115754\n"
     ]
    }
   ],
   "source": [
    "nc=80000\n",
    "good_bc = poisson(c=1, b=1, nc=nc, nb = nb, nd = nd) * nd * 0.4\n",
    "print(good_bc)"
   ]
  },
  {
   "cell_type": "markdown",
   "id": "e203a7e9",
   "metadata": {},
   "source": [
    "#### Bead doublets"
   ]
  },
  {
   "cell_type": "code",
   "execution_count": 186,
   "id": "4522a760",
   "metadata": {
    "ExecuteTime": {
     "end_time": "2021-12-09T18:52:39.839870Z",
     "start_time": "2021-12-09T18:52:39.827331Z"
    }
   },
   "outputs": [
    {
     "data": {
      "text/plain": [
       "241.73696792333388"
      ]
     },
     "execution_count": 186,
     "metadata": {},
     "output_type": "execute_result"
    }
   ],
   "source": [
    "(1 - (poisson(c=\"any\", b=1, nc=nc, nb = nb, nd = nd) -\n",
    "        poisson(c=0, b=1, nc=nc, nb = nb, nd = nd) +\n",
    "        poisson(c=\"any\", b=0, nc=nc, nb = nb, nd = nd) +\n",
    "        poisson(c=0, b=\"any\", nc=nc, nb = nb, nd = nd) -\n",
    "        poisson(c=0, b=0, nc=nc, nb = nb, nd = nd))) * nd"
   ]
  },
  {
   "cell_type": "markdown",
   "id": "8da463a0",
   "metadata": {},
   "source": [
    "##### Most of bead doublets are 2 beads and one cell"
   ]
  },
  {
   "cell_type": "code",
   "execution_count": 166,
   "id": "d30adfa7",
   "metadata": {
    "ExecuteTime": {
     "end_time": "2021-12-09T18:23:32.957026Z",
     "start_time": "2021-12-09T18:23:32.948800Z"
    }
   },
   "outputs": [
    {
     "data": {
      "text/plain": [
       "229.88977719708723"
      ]
     },
     "execution_count": 166,
     "metadata": {},
     "output_type": "execute_result"
    }
   ],
   "source": [
    "poisson(c=1, b=2, nc=nc, nb = nb, nd = nd) * nd # 2 beads and 1 cell"
   ]
  },
  {
   "cell_type": "code",
   "execution_count": 233,
   "id": "b4e569a4",
   "metadata": {
    "ExecuteTime": {
     "end_time": "2021-12-09T20:09:52.705411Z",
     "start_time": "2021-12-09T20:09:52.697026Z"
    }
   },
   "outputs": [
    {
     "data": {
      "text/plain": [
       "6.896693315912617"
      ]
     },
     "execution_count": 233,
     "metadata": {},
     "output_type": "execute_result"
    }
   ],
   "source": [
    "poisson(c=2, b=2, nc=nc, nb = nb, nd = nd) * nd # 2 beads and 2 cells"
   ]
  },
  {
   "cell_type": "markdown",
   "id": "5b0c8e6c",
   "metadata": {
    "heading_collapsed": true
   },
   "source": [
    "##### Bead doublet barcodes"
   ]
  },
  {
   "cell_type": "code",
   "execution_count": 218,
   "id": "ee804158",
   "metadata": {
    "ExecuteTime": {
     "end_time": "2021-12-09T19:24:58.280469Z",
     "start_time": "2021-12-09T19:24:58.273750Z"
    },
    "hidden": true
   },
   "outputs": [
    {
     "name": "stdout",
     "output_type": "stream",
     "text": [
      "183.9118217576698\n"
     ]
    }
   ],
   "source": [
    "# droplets with bead doublets contain 2 beads most of the time ; after washing only get 20-40% \n",
    "\n",
    "db = poisson(c=2, b=1, nc=nc, nb = nb, nd = nd) * nd * 2 *  0.4  \n",
    "print(db)"
   ]
  },
  {
   "cell_type": "markdown",
   "id": "01537ee0",
   "metadata": {
    "heading_collapsed": true
   },
   "source": [
    "#### Cell doublets"
   ]
  },
  {
   "cell_type": "code",
   "execution_count": 208,
   "id": "f4ac183b",
   "metadata": {
    "ExecuteTime": {
     "end_time": "2021-12-09T19:15:31.872354Z",
     "start_time": "2021-12-09T19:15:31.859628Z"
    },
    "hidden": true
   },
   "outputs": [
    {
     "data": {
      "text/plain": [
       "241.73696792333388"
      ]
     },
     "execution_count": 208,
     "metadata": {},
     "output_type": "execute_result"
    }
   ],
   "source": [
    "(1 - (poisson(c=1, b=\"any\", nc=nc, nb = nb, nd = nd) -\n",
    "        poisson(c=1, b=0, nc=nc, nb = nb, nd = nd) +\n",
    "        poisson(c=\"any\", b=0, nc=nc, nb = nb, nd = nd) +\n",
    "        poisson(c=0, b=\"any\", nc=nc, nb = nb, nd = nd) -\n",
    "        poisson(c=0, b=0, nc=nc, nb = nb, nd = nd))) * nd"
   ]
  },
  {
   "cell_type": "markdown",
   "id": "52203b91",
   "metadata": {
    "hidden": true
   },
   "source": [
    "##### Most of cell doublets are 2 cells and one bead"
   ]
  },
  {
   "cell_type": "code",
   "execution_count": 148,
   "id": "bf944eef",
   "metadata": {
    "ExecuteTime": {
     "end_time": "2021-12-09T17:39:52.845325Z",
     "start_time": "2021-12-09T17:39:52.834952Z"
    },
    "hidden": true
   },
   "outputs": [
    {
     "data": {
      "text/plain": [
       "229.88977719708723"
      ]
     },
     "execution_count": 148,
     "metadata": {},
     "output_type": "execute_result"
    }
   ],
   "source": [
    "poisson(c=2, b=1, nc=nc, nb = nb, nd = nd) * nd # 2 cells and 1 bead "
   ]
  },
  {
   "cell_type": "markdown",
   "id": "98cd530a",
   "metadata": {
    "hidden": true
   },
   "source": [
    "##### Cell doublet barcodes"
   ]
  },
  {
   "cell_type": "code",
   "execution_count": 209,
   "id": "fba26345",
   "metadata": {
    "ExecuteTime": {
     "end_time": "2021-12-09T19:16:27.264618Z",
     "start_time": "2021-12-09T19:16:27.251360Z"
    },
    "hidden": true
   },
   "outputs": [
    {
     "name": "stdout",
     "output_type": "stream",
     "text": [
      "91.9559108788349\n"
     ]
    }
   ],
   "source": [
    "# after washing only get 20-40% \n",
    "\n",
    "dc = poisson(c=2, b=1, nc=nc, nb = nb, nd = nd) * nd * 0.4  \n",
    "print(dc)"
   ]
  },
  {
   "cell_type": "markdown",
   "id": "6f82d8ca",
   "metadata": {
    "heading_collapsed": true
   },
   "source": [
    "#### Cell doublet rate"
   ]
  },
  {
   "cell_type": "code",
   "execution_count": 221,
   "id": "485d9bd1",
   "metadata": {
    "ExecuteTime": {
     "end_time": "2021-12-09T19:52:49.168846Z",
     "start_time": "2021-12-09T19:52:49.161792Z"
    },
    "hidden": true
   },
   "outputs": [
    {
     "data": {
      "text/plain": [
       "91.9559108788349"
      ]
     },
     "execution_count": 221,
     "metadata": {},
     "output_type": "execute_result"
    }
   ],
   "source": [
    "dc"
   ]
  },
  {
   "cell_type": "code",
   "execution_count": 219,
   "id": "e483735e",
   "metadata": {
    "ExecuteTime": {
     "end_time": "2021-12-09T19:25:01.457991Z",
     "start_time": "2021-12-09T19:25:01.450363Z"
    },
    "hidden": true
   },
   "outputs": [
    {
     "data": {
      "text/plain": [
       "0.02752293577981652"
      ]
     },
     "execution_count": 219,
     "metadata": {},
     "output_type": "execute_result"
    }
   ],
   "source": [
    "dc/(good_bc+dc+db)"
   ]
  },
  {
   "cell_type": "code",
   "execution_count": 223,
   "id": "248f8a2b",
   "metadata": {
    "ExecuteTime": {
     "end_time": "2021-12-09T19:58:22.745474Z",
     "start_time": "2021-12-09T19:58:22.738122Z"
    },
    "hidden": true
   },
   "outputs": [
    {
     "data": {
      "text/plain": [
       "0.030303030303030304"
      ]
     },
     "execution_count": 223,
     "metadata": {},
     "output_type": "execute_result"
    }
   ],
   "source": [
    "100/3300"
   ]
  },
  {
   "cell_type": "markdown",
   "id": "453c8c1f",
   "metadata": {},
   "source": [
    "#### Bead doublet rate"
   ]
  },
  {
   "cell_type": "code",
   "execution_count": 222,
   "id": "96574ca4",
   "metadata": {
    "ExecuteTime": {
     "end_time": "2021-12-09T19:52:56.550385Z",
     "start_time": "2021-12-09T19:52:56.543312Z"
    }
   },
   "outputs": [
    {
     "data": {
      "text/plain": [
       "183.9118217576698"
      ]
     },
     "execution_count": 222,
     "metadata": {},
     "output_type": "execute_result"
    }
   ],
   "source": [
    "db"
   ]
  },
  {
   "cell_type": "code",
   "execution_count": 220,
   "id": "8c96087d",
   "metadata": {
    "ExecuteTime": {
     "end_time": "2021-12-09T19:25:30.511239Z",
     "start_time": "2021-12-09T19:25:30.503766Z"
    }
   },
   "outputs": [
    {
     "data": {
      "text/plain": [
       "0.05504587155963304"
      ]
     },
     "execution_count": 220,
     "metadata": {},
     "output_type": "execute_result"
    }
   ],
   "source": [
    "db/(good_bc+dc+db)"
   ]
  },
  {
   "cell_type": "code",
   "execution_count": 224,
   "id": "09537f03",
   "metadata": {
    "ExecuteTime": {
     "end_time": "2021-12-09T19:58:36.110789Z",
     "start_time": "2021-12-09T19:58:36.103563Z"
    }
   },
   "outputs": [
    {
     "data": {
      "text/plain": [
       "0.06060606060606061"
      ]
     },
     "execution_count": 224,
     "metadata": {},
     "output_type": "execute_result"
    }
   ],
   "source": [
    "200/3300"
   ]
  }
 ],
 "metadata": {
  "kernelspec": {
   "display_name": "Python 3",
   "language": "python",
   "name": "python3"
  },
  "language_info": {
   "codemirror_mode": {
    "name": "ipython",
    "version": 3
   },
   "file_extension": ".py",
   "mimetype": "text/x-python",
   "name": "python",
   "nbconvert_exporter": "python",
   "pygments_lexer": "ipython3",
   "version": "3.9.5"
  },
  "toc": {
   "base_numbering": 1,
   "nav_menu": {},
   "number_sections": true,
   "sideBar": true,
   "skip_h1_title": false,
   "title_cell": "Table of Contents",
   "title_sidebar": "Contents",
   "toc_cell": false,
   "toc_position": {},
   "toc_section_display": true,
   "toc_window_display": false
  }
 },
 "nbformat": 4,
 "nbformat_minor": 5
}
